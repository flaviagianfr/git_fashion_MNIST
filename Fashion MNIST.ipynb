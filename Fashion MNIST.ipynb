{
 "cells": [
  {
   "cell_type": "markdown",
   "metadata": {
    "id": "4wav4fI6uNTi"
   },
   "source": [
    "# Fashion-MNIST"
   ]
  },
  {
   "cell_type": "markdown",
   "metadata": {
    "id": "ifDgTgy2BM5X"
   },
   "source": [
    "Fashion-MNIST is a dataset of Zalando's article images—consisting of 70,000 examples. Each example is a 28x28 grayscale image described in matrix X and associated with a label from 10 classes contained in the Y."
   ]
  },
  {
   "cell_type": "code",
   "execution_count": null,
   "metadata": {
    "id": "a9vgyE8WsRGK"
   },
   "outputs": [],
   "source": [
    "import numpy as np\n",
    "from urllib.request import urlopen\n",
    "from sklearn.model_selection import train_test_split\n",
    "\n",
    "def load_fashion_mnist():\n",
    "\n",
    "    url_base = \"https://www.math.unipd.it/~dasan/\"\n",
    "    #With the function \"np.frombuffer\" we interpret a buffer as a 1-dimensional array.\n",
    "    Y_train = np.frombuffer(urlopen(url_base + \"train-labels-idx1-ubyte\").read(), dtype=np.uint8, offset=8)\n",
    "    X_train = np.frombuffer(urlopen(url_base + \"train-images-idx3-ubyte\").read(), dtype=np.uint8, offset=16).reshape(len(Y_train), 784) \n",
    "    #We already flatten the data into a vector.\n",
    "    Y_test = np.frombuffer(urlopen(url_base + \"t10k-labels-idx1-ubyte\").read(), dtype=np.uint8, offset=8)\n",
    "    X_test = np.frombuffer(urlopen(url_base + \"t10k-images-idx3-ubyte\").read(), dtype=np.uint8, offset=16).reshape(len(Y_test), 784)\n",
    "\n",
    "    return X_train, Y_train, X_test, Y_test"
   ]
  },
  {
   "cell_type": "code",
   "execution_count": null,
   "metadata": {
    "id": "kuj7_Yt0uwh9"
   },
   "outputs": [],
   "source": [
    "X_train_val, Y_train_val, X_test_0, Y_test = load_fashion_mnist() \n",
    "X_train_0, X_val_0, Y_train, Y_val = train_test_split(X_train_val, Y_train_val,  train_size = 0.8, random_state = 123)"
   ]
  },
  {
   "cell_type": "markdown",
   "metadata": {
    "id": "3LYV-6OVu29j"
   },
   "source": [
    "For the choice of the model, it was decided to split the training dataset into two parts: the training dataset of the models and the validation dataset of themselves. \n",
    "This procedure avoids overfitting and, by giving the model \"new\" data, we are able to observe the true predictive capacity of the model. \n",
    "The validation set is also a useful tool for identifying the optimal values for the hyper-parameters."
   ]
  },
  {
   "cell_type": "markdown",
   "metadata": {
    "id": "4BiXarShx2j7"
   },
   "source": [
    "## Data Analysis"
   ]
  },
  {
   "cell_type": "markdown",
   "metadata": {
    "id": "2pUfmZkn0144"
   },
   "source": [
    "Data preprocessing in Machine Learning is a important step to do before feeding it into our models.\n",
    "It means the concept of changing the raw data into a clean data set.\n",
    "The dataset has been preprocessed in order to check missing values and the balance of the sets. Then we looked for a dimensionality reduction in order to make the algorithms faster: we first checked the entropy of the features (each pixel) and we kept those who gave more information, then we applied the PCA technique to reduce the dimensionality of the dataset, increasing interpretability but at the same time minimizing information loss, by creating new uncorrelated variables that successively maximize variance. \n",
    "At the end of the process we standardized the resulting dataset with MinMaxScaler to make computations faster and ranges of each features equal to [0,1].\n",
    "\n",
    "\n",
    "\n",
    "\n",
    "\n"
   ]
  },
  {
   "cell_type": "code",
   "execution_count": null,
   "metadata": {
    "colab": {
     "base_uri": "https://localhost:8080/"
    },
    "id": "UutIA3Hqx5Vs",
    "outputId": "25223614-e241-42a3-bfe6-5654637e7d4c"
   },
   "outputs": [
    {
     "name": "stdout",
     "output_type": "stream",
     "text": [
      "(48000, 784) (48000,) (12000, 784) (12000,) (10000, 784) (10000,)\n"
     ]
    }
   ],
   "source": [
    "#Verification of the shapes of the datasets:\n",
    "print(X_train_0.shape, Y_train.shape, X_val_0.shape, Y_val.shape, X_test_0.shape, Y_test.shape)"
   ]
  },
  {
   "cell_type": "code",
   "execution_count": null,
   "metadata": {
    "colab": {
     "base_uri": "https://localhost:8080/"
    },
    "id": "0Eebm_z0x9LE",
    "outputId": "e54aa463-3b0a-417b-ff21-4aea75f47885"
   },
   "outputs": [
    {
     "name": "stdout",
     "output_type": "stream",
     "text": [
      "0\n",
      "0\n",
      "0\n"
     ]
    }
   ],
   "source": [
    "#Transformation of the sets in DataFrame in order to check the presence of NA values:\n",
    "import pandas as pd\n",
    "X_train_df = pd.DataFrame(X_train_0)\n",
    "X_val_df = pd.DataFrame(X_val_0)\n",
    "X_test_df = pd.DataFrame(X_test_0)\n",
    "\n",
    "#Checking for NA values into each dataset:\n",
    "print(X_train_df.isna().sum().sum())\n",
    "print(X_val_df.isna().sum().sum())\n",
    "print(X_test_df.isna().sum().sum())"
   ]
  },
  {
   "cell_type": "markdown",
   "metadata": {
    "id": "r6tMSpIBCrhv"
   },
   "source": [
    "After seeing that there are no null values, we move on to checking balance of the datasets."
   ]
  },
  {
   "cell_type": "code",
   "execution_count": null,
   "metadata": {
    "colab": {
     "base_uri": "https://localhost:8080/",
     "height": 264
    },
    "id": "X-W6wTHByLjh",
    "outputId": "02002ddf-3a24-4cc1-a8bc-4d1c9c388f2b"
   },
   "outputs": [
    {
     "name": "stdout",
     "output_type": "stream",
     "text": [
      "[0, 1, 2, 3, 4, 5, 6, 7, 8, 9] 10\n",
      "['T-shirt/top', 'Trousers', 'Pullover', 'Dress', 'Coat', 'Sandal', 'Shirt', 'Sneaker', 'Bag', 'Ankle boot'] 10\n"
     ]
    },
    {
     "data": {
      "text/plain": [
       "<matplotlib.axes._subplots.AxesSubplot at 0x7fc1b1e7e1d0>"
      ]
     },
     "execution_count": 5,
     "metadata": {},
     "output_type": "execute_result"
    },
    {
     "data": {
      "image/png": "[encoded data removed]",
      "text/plain": [
       "<Figure size 1080x216 with 3 Axes>"
      ]
     },
     "metadata": {
      "needs_background": "light"
     },
     "output_type": "display_data"
    }
   ],
   "source": [
    "#Classes contained in the target variable\n",
    "labels_num = list(set(Y_train))\n",
    "labels_fashion = [\"T-shirt/top\",\"Trousers\",\"Pullover\",\"Dress\",\"Coat\",\"Sandal\",\"Shirt\",\"Sneaker\",\"Bag\",\"Ankle boot\"]\n",
    "print(labels_num, len(labels_num))\n",
    "print(labels_fashion, len(labels_fashion))\n",
    "\n",
    "#Checking balance of the Training Set:\n",
    "unique, train_counts = np.unique(Y_train, return_counts = True)\n",
    "y_train_freq = train_counts\n",
    "\n",
    "#Checking balance of the Valuation Set:\n",
    "unique, val_counts = np.unique(Y_val, return_counts = True)\n",
    "y_val_freq = val_counts\n",
    "\n",
    "#Checking balance of the Test Set:\n",
    "unique, test_counts = np.unique(Y_test, return_counts = True)\n",
    "y_test_freq = test_counts\n",
    "\n",
    "#Graphic visualization of the frequences in the different datasets:\n",
    "import matplotlib.pyplot as plt\n",
    "import seaborn as sns\n",
    "\n",
    "fig, axs = plt.subplots(1, 3, figsize=(15,3))\n",
    "sns.barplot(y = y_train_freq, x = labels_num, ax = axs[0])\n",
    "sns.barplot(y = y_val_freq, x = labels_num, ax = axs[1])\n",
    "sns.barplot(y = y_test_freq, x = labels_num, ax = axs[2])"
   ]
  },
  {
   "cell_type": "markdown",
   "metadata": {
    "id": "r9t65FVNEYa4"
   },
   "source": [
    "The following images are an example of some products described in the Fashion MNIST dataset."
   ]
  },
  {
   "cell_type": "code",
   "execution_count": null,
   "metadata": {
    "colab": {
     "base_uri": "https://localhost:8080/",
     "height": 1000
    },
    "id": "8c394Yqp1jDB",
    "outputId": "5db35c8c-1794-4e5d-9f85-44700af33585"
   },
   "outputs": [
    {
     "data": {
      "image/png": "[encoded data removed]",
      "text/plain": [
       "<Figure size 432x288 with 1 Axes>"
      ]
     },
     "metadata": {
      "needs_background": "light"
     },
     "output_type": "display_data"
    },
    {
     "data": {
      "image/png": "[encoded data removed]",
      "text/plain": [
       "<Figure size 432x288 with 1 Axes>"
      ]
     },
     "metadata": {
      "needs_background": "light"
     },
     "output_type": "display_data"
    },
    {
     "data": {
      "image/png": "[encoded data removed]",
      "text/plain": [
       "<Figure size 432x288 with 1 Axes>"
      ]
     },
     "metadata": {
      "needs_background": "light"
     },
     "output_type": "display_data"
    },
    {
     "data": {
      "image/png": "[encoded data removed]",
      "text/plain": [
       "<Figure size 432x288 with 1 Axes>"
      ]
     },
     "metadata": {
      "needs_background": "light"
     },
     "output_type": "display_data"
    },
    {
     "data": {
      "image/png": "[encoded data removed]",
      "text/plain": [
       "<Figure size 432x288 with 1 Axes>"
      ]
     },
     "metadata": {
      "needs_background": "light"
     },
     "output_type": "display_data"
    }
   ],
   "source": [
    "from matplotlib import image\n",
    "for i in range(0,5):\n",
    "  image = X_train_df.iloc[i]\n",
    "  image = np.array(image)\n",
    "  image = image.reshape((28,28))\n",
    "  plt.figure()\n",
    "  plt.imshow(image, cmap=\"gray\")"
   ]
  },
  {
   "cell_type": "markdown",
   "metadata": {
    "id": "iMoTcgFUEKHH"
   },
   "source": [
    "Then the entropy values of each feature are evaluated to know if some features are not considerable."
   ]
  },
  {
   "cell_type": "code",
   "execution_count": null,
   "metadata": {
    "colab": {
     "base_uri": "https://localhost:8080/",
     "height": 404
    },
    "id": "dtW_uVhb0CSo",
    "outputId": "d61a5879-d426-4cc4-97ec-d316929df246"
   },
   "outputs": [
    {
     "name": "stdout",
     "output_type": "stream",
     "text": [
      "(70000, 784)\n",
      "9.407700924004722\n",
      "(48000, 784)\n",
      "(12000, 784)\n",
      "(10000, 784)\n",
      "(48000, 588)\n",
      "(12000, 588)\n",
      "(10000, 588)\n"
     ]
    },
    {
     "data": {
      "image/png": "[encoded data removed]",
      "text/plain": [
       "<Figure size 432x288 with 1 Axes>"
      ]
     },
     "metadata": {
      "needs_background": "light"
     },
     "output_type": "display_data"
    }
   ],
   "source": [
    "#Union of the datasets:\n",
    "data = pd.concat([X_train_df, X_val_df, X_test_df], ignore_index=True)\n",
    "print(data.shape)\n",
    "\n",
    "#We look for the pixels that give us more informations, useful in the classification process.\n",
    "#We compute a measure: the entropy for each feature of each single data: --> each pixel is analyzed\n",
    "from scipy.stats import entropy\n",
    "entropy = pd.Series(entropy(data))\n",
    "\n",
    "#Graphic visualization:\n",
    "plt.plot(sorted(entropy))\n",
    "\n",
    "#Now we want to detect the first quantile in order to delete the pixels which don't give us much information:\n",
    "q = entropy.quantile(q = 0.25)\n",
    "print(q)\n",
    "indexes = entropy[entropy < q].index\n",
    "\n",
    "#Elimination of the columns detected:\n",
    "data_new = data.drop(indexes, axis = 1)\n",
    "data_new.shape\n",
    "\n",
    "X_train_df_new = data_new.iloc[0:48000]\n",
    "print(X_train_df.shape)\n",
    "\n",
    "X_val_df_new = data_new.iloc[48000:60000]\n",
    "print(X_val_df.shape)\n",
    "\n",
    "X_test_df_new = data_new.iloc[60000:]\n",
    "print(X_test_df.shape)\n",
    "\n",
    "X_train = np.array(X_train_df_new)\n",
    "X_val = np.array(X_val_df_new)\n",
    "X_test = np.array(X_test_df_new)\n",
    "\n",
    "print(X_train.shape)\n",
    "print(X_val.shape)\n",
    "print(X_test.shape)"
   ]
  },
  {
   "cell_type": "markdown",
   "metadata": {
    "id": "ZUZOYLl4FZtq"
   },
   "source": [
    "Then the PCA can allow to have a less expensive algorithm and to reduce the number of variables to a smaller number of latent variables."
   ]
  },
  {
   "cell_type": "code",
   "execution_count": null,
   "metadata": {
    "colab": {
     "base_uri": "https://localhost:8080/"
    },
    "id": "HUNt_4ba2DCH",
    "outputId": "411d20c8-744b-43b9-97f7-1b3c721e15d5"
   },
   "outputs": [
    {
     "name": "stdout",
     "output_type": "stream",
     "text": [
      "(48000, 70)\n",
      "(12000, 70)\n",
      "(10000, 70)\n"
     ]
    }
   ],
   "source": [
    "from sklearn.decomposition import PCA\n",
    "pca = PCA(0.90)\n",
    "X_train = pca.fit_transform(X_train)\n",
    "X_val = pca.transform(X_val)\n",
    "X_test = pca.transform(X_test)\n",
    "\n",
    "print(X_train.shape)\n",
    "print(X_val.shape)\n",
    "print(X_test.shape)"
   ]
  },
  {
   "cell_type": "markdown",
   "metadata": {
    "id": "dD6tlrgdFfd5"
   },
   "source": [
    "Finally, because we are working with images, it's good to use the MinMaxScaler on the pixel values to normalize them."
   ]
  },
  {
   "cell_type": "code",
   "execution_count": null,
   "metadata": {
    "id": "lrFhTmcp1D0J"
   },
   "outputs": [],
   "source": [
    "from sklearn.preprocessing import MinMaxScaler\n",
    "\n",
    "mms = MinMaxScaler()\n",
    "X_train = mms.fit_transform(X_train)\n",
    "X_test = mms.transform(X_test)\n",
    "X_val = mms.transform(X_val)"
   ]
  },
  {
   "cell_type": "markdown",
   "metadata": {
    "id": "iSue6aZj3T6-"
   },
   "source": [
    "##Models"
   ]
  },
  {
   "cell_type": "markdown",
   "metadata": {
    "id": "0MWdOinxF7xI"
   },
   "source": [
    "We load the accuracy score that will help us with the evaluation of the models and we build a dataframe where we will insert the values for each model."
   ]
  },
  {
   "cell_type": "code",
   "execution_count": null,
   "metadata": {
    "colab": {
     "base_uri": "https://localhost:8080/",
     "height": 63
    },
    "id": "pmITIuO53ZG7",
    "outputId": "6a16145e-17ef-4b13-a530-bf6a5442bca2"
   },
   "outputs": [
    {
     "data": {
      "text/html": [
       "\n",
       "  <div id=\"df-29eb3e41-0dfd-4d7e-8807-a81c3019c10d\">\n",
       "    <div class=\"colab-df-container\">\n",
       "      <div>\n",
       "<style scoped>\n",
       "    .dataframe tbody tr th:only-of-type {\n",
       "        vertical-align: middle;\n",
       "    }\n",
       "\n",
       "    .dataframe tbody tr th {\n",
       "        vertical-align: top;\n",
       "    }\n",
       "\n",
       "    .dataframe thead th {\n",
       "        text-align: right;\n",
       "    }\n",
       "</style>\n",
       "<table border=\"1\" class=\"dataframe\">\n",
       "  <thead>\n",
       "    <tr style=\"text-align: right;\">\n",
       "      <th></th>\n",
       "    </tr>\n",
       "  </thead>\n",
       "  <tbody>\n",
       "    <tr>\n",
       "      <th>SCORE</th>\n",
       "    </tr>\n",
       "  </tbody>\n",
       "</table>\n",
       "</div>\n",
       "      <button class=\"colab-df-convert\" onclick=\"convertToInteractive('df-29eb3e41-0dfd-4d7e-8807-a81c3019c10d')\"\n",
       "              title=\"Convert this dataframe to an interactive table.\"\n",
       "              style=\"display:none;\">\n",
       "        \n",
       "  <svg xmlns=\"http://www.w3.org/2000/svg\" height=\"24px\"viewBox=\"0 0 24 24\"\n",
       "       width=\"24px\">\n",
       "    <path d=\"M0 0h24v24H0V0z\" fill=\"none\"/>\n",
       "    <path d=\"M18.56 5.44l.94 2.06.94-2.06 2.06-.94-2.06-.94-.94-2.06-.94 2.06-2.06.94zm-11 1L8.5 8.5l.94-2.06 2.06-.94-2.06-.94L8.5 2.5l-.94 2.06-2.06.94zm10 10l.94 2.06.94-2.06 2.06-.94-2.06-.94-.94-2.06-.94 2.06-2.06.94z\"/><path d=\"M17.41 7.96l-1.37-1.37c-.4-.4-.92-.59-1.43-.59-.52 0-1.04.2-1.43.59L10.3 9.45l-7.72 7.72c-.78.78-.78 2.05 0 2.83L4 21.41c.39.39.9.59 1.41.59.51 0 1.02-.2 1.41-.59l7.78-7.78 2.81-2.81c.8-.78.8-2.07 0-2.86zM5.41 20L4 18.59l7.72-7.72 1.47 1.35L5.41 20z\"/>\n",
       "  </svg>\n",
       "      </button>\n",
       "      \n",
       "  <style>\n",
       "    .colab-df-container {\n",
       "      display:flex;\n",
       "      flex-wrap:wrap;\n",
       "      gap: 12px;\n",
       "    }\n",
       "\n",
       "    .colab-df-convert {\n",
       "      background-color: #E8F0FE;\n",
       "      border: none;\n",
       "      border-radius: 50%;\n",
       "      cursor: pointer;\n",
       "      display: none;\n",
       "      fill: #1967D2;\n",
       "      height: 32px;\n",
       "      padding: 0 0 0 0;\n",
       "      width: 32px;\n",
       "    }\n",
       "\n",
       "    .colab-df-convert:hover {\n",
       "      background-color: #E2EBFA;\n",
       "      box-shadow: 0px 1px 2px rgba(60, 64, 67, 0.3), 0px 1px 3px 1px rgba(60, 64, 67, 0.15);\n",
       "      fill: #174EA6;\n",
       "    }\n",
       "\n",
       "    [theme=dark] .colab-df-convert {\n",
       "      background-color: #3B4455;\n",
       "      fill: #D2E3FC;\n",
       "    }\n",
       "\n",
       "    [theme=dark] .colab-df-convert:hover {\n",
       "      background-color: #434B5C;\n",
       "      box-shadow: 0px 1px 3px 1px rgba(0, 0, 0, 0.15);\n",
       "      filter: drop-shadow(0px 1px 2px rgba(0, 0, 0, 0.3));\n",
       "      fill: #FFFFFF;\n",
       "    }\n",
       "  </style>\n",
       "\n",
       "      <script>\n",
       "        const buttonEl =\n",
       "          document.querySelector('#df-29eb3e41-0dfd-4d7e-8807-a81c3019c10d button.colab-df-convert');\n",
       "        buttonEl.style.display =\n",
       "          google.colab.kernel.accessAllowed ? 'block' : 'none';\n",
       "\n",
       "        async function convertToInteractive(key) {\n",
       "          const element = document.querySelector('#df-29eb3e41-0dfd-4d7e-8807-a81c3019c10d');\n",
       "          const dataTable =\n",
       "            await google.colab.kernel.invokeFunction('convertToInteractive',\n",
       "                                                     [key], {});\n",
       "          if (!dataTable) return;\n",
       "\n",
       "          const docLinkHtml = 'Like what you see? Visit the ' +\n",
       "            '<a target=\"_blank\" href=https://colab.research.google.com/notebooks/data_table.ipynb>data table notebook</a>'\n",
       "            + ' to learn more about interactive tables.';\n",
       "          element.innerHTML = '';\n",
       "          dataTable['output_type'] = 'display_data';\n",
       "          await google.colab.output.renderOutput(dataTable, element);\n",
       "          const docLink = document.createElement('div');\n",
       "          docLink.innerHTML = docLinkHtml;\n",
       "          element.appendChild(docLink);\n",
       "        }\n",
       "      </script>\n",
       "    </div>\n",
       "  </div>\n",
       "  "
      ],
      "text/plain": [
       "Empty DataFrame\n",
       "Columns: []\n",
       "Index: [SCORE]"
      ]
     },
     "execution_count": 10,
     "metadata": {},
     "output_type": "execute_result"
    }
   ],
   "source": [
    "from sklearn.metrics import accuracy_score\n",
    "models_scores = {}\n",
    "models_scores = pd.DataFrame(models_scores, index = [\"SCORE\"])\n",
    "models_scores"
   ]
  },
  {
   "cell_type": "markdown",
   "metadata": {
    "id": "UXYITp5f6oS_"
   },
   "source": [
    "#### SVM"
   ]
  },
  {
   "cell_type": "markdown",
   "metadata": {
    "id": "6REVdIWrvuK4"
   },
   "source": [
    "(Execution Time: 3 min)"
   ]
  },
  {
   "cell_type": "code",
   "execution_count": null,
   "metadata": {
    "colab": {
     "base_uri": "https://localhost:8080/"
    },
    "id": "a3eCN8q66qIM",
    "outputId": "9bbebe30-6d1a-4caf-c283-a544c6c67d3b"
   },
   "outputs": [
    {
     "name": "stdout",
     "output_type": "stream",
     "text": [
      "ACCURACY: TRAIN = 0.9279375 VAL = 0.8946666666666667\n"
     ]
    }
   ],
   "source": [
    "from sklearn.svm import SVC\n",
    "\n",
    "svc = SVC(random_state = 123)\n",
    "svc.fit(X_train, Y_train)\n",
    "\n",
    "Y_pred_svc_train = svc.predict(X_train)\n",
    "Y_pred_svc_val = svc.predict(X_val)\n",
    "\n",
    "acc_svc_train = accuracy_score(Y_train, Y_pred_svc_train)\n",
    "acc_svc_val = accuracy_score(Y_val, Y_pred_svc_val)\n",
    "print(\"ACCURACY: TRAIN = \"+str(acc_svc_train)+\" VAL = \"+str(acc_svc_val))\n"
   ]
  },
  {
   "cell_type": "code",
   "execution_count": null,
   "metadata": {
    "colab": {
     "base_uri": "https://localhost:8080/",
     "height": 81
    },
    "id": "I0RnOCS98kGz",
    "outputId": "3989ffe7-0564-4c5e-b23b-8e57bec402fc"
   },
   "outputs": [
    {
     "data": {
      "text/html": [
       "\n",
       "  <div id=\"df-ba4ae028-8c4f-4ffe-843b-d96ff7f22200\">\n",
       "    <div class=\"colab-df-container\">\n",
       "      <div>\n",
       "<style scoped>\n",
       "    .dataframe tbody tr th:only-of-type {\n",
       "        vertical-align: middle;\n",
       "    }\n",
       "\n",
       "    .dataframe tbody tr th {\n",
       "        vertical-align: top;\n",
       "    }\n",
       "\n",
       "    .dataframe thead th {\n",
       "        text-align: right;\n",
       "    }\n",
       "</style>\n",
       "<table border=\"1\" class=\"dataframe\">\n",
       "  <thead>\n",
       "    <tr style=\"text-align: right;\">\n",
       "      <th></th>\n",
       "      <th>SVM</th>\n",
       "    </tr>\n",
       "  </thead>\n",
       "  <tbody>\n",
       "    <tr>\n",
       "      <th>SCORE</th>\n",
       "      <td>0.8851</td>\n",
       "    </tr>\n",
       "  </tbody>\n",
       "</table>\n",
       "</div>\n",
       "      <button class=\"colab-df-convert\" onclick=\"convertToInteractive('df-ba4ae028-8c4f-4ffe-843b-d96ff7f22200')\"\n",
       "              title=\"Convert this dataframe to an interactive table.\"\n",
       "              style=\"display:none;\">\n",
       "        \n",
       "  <svg xmlns=\"http://www.w3.org/2000/svg\" height=\"24px\"viewBox=\"0 0 24 24\"\n",
       "       width=\"24px\">\n",
       "    <path d=\"M0 0h24v24H0V0z\" fill=\"none\"/>\n",
       "    <path d=\"M18.56 5.44l.94 2.06.94-2.06 2.06-.94-2.06-.94-.94-2.06-.94 2.06-2.06.94zm-11 1L8.5 8.5l.94-2.06 2.06-.94-2.06-.94L8.5 2.5l-.94 2.06-2.06.94zm10 10l.94 2.06.94-2.06 2.06-.94-2.06-.94-.94-2.06-.94 2.06-2.06.94z\"/><path d=\"M17.41 7.96l-1.37-1.37c-.4-.4-.92-.59-1.43-.59-.52 0-1.04.2-1.43.59L10.3 9.45l-7.72 7.72c-.78.78-.78 2.05 0 2.83L4 21.41c.39.39.9.59 1.41.59.51 0 1.02-.2 1.41-.59l7.78-7.78 2.81-2.81c.8-.78.8-2.07 0-2.86zM5.41 20L4 18.59l7.72-7.72 1.47 1.35L5.41 20z\"/>\n",
       "  </svg>\n",
       "      </button>\n",
       "      \n",
       "  <style>\n",
       "    .colab-df-container {\n",
       "      display:flex;\n",
       "      flex-wrap:wrap;\n",
       "      gap: 12px;\n",
       "    }\n",
       "\n",
       "    .colab-df-convert {\n",
       "      background-color: #E8F0FE;\n",
       "      border: none;\n",
       "      border-radius: 50%;\n",
       "      cursor: pointer;\n",
       "      display: none;\n",
       "      fill: #1967D2;\n",
       "      height: 32px;\n",
       "      padding: 0 0 0 0;\n",
       "      width: 32px;\n",
       "    }\n",
       "\n",
       "    .colab-df-convert:hover {\n",
       "      background-color: #E2EBFA;\n",
       "      box-shadow: 0px 1px 2px rgba(60, 64, 67, 0.3), 0px 1px 3px 1px rgba(60, 64, 67, 0.15);\n",
       "      fill: #174EA6;\n",
       "    }\n",
       "\n",
       "    [theme=dark] .colab-df-convert {\n",
       "      background-color: #3B4455;\n",
       "      fill: #D2E3FC;\n",
       "    }\n",
       "\n",
       "    [theme=dark] .colab-df-convert:hover {\n",
       "      background-color: #434B5C;\n",
       "      box-shadow: 0px 1px 3px 1px rgba(0, 0, 0, 0.15);\n",
       "      filter: drop-shadow(0px 1px 2px rgba(0, 0, 0, 0.3));\n",
       "      fill: #FFFFFF;\n",
       "    }\n",
       "  </style>\n",
       "\n",
       "      <script>\n",
       "        const buttonEl =\n",
       "          document.querySelector('#df-ba4ae028-8c4f-4ffe-843b-d96ff7f22200 button.colab-df-convert');\n",
       "        buttonEl.style.display =\n",
       "          google.colab.kernel.accessAllowed ? 'block' : 'none';\n",
       "\n",
       "        async function convertToInteractive(key) {\n",
       "          const element = document.querySelector('#df-ba4ae028-8c4f-4ffe-843b-d96ff7f22200');\n",
       "          const dataTable =\n",
       "            await google.colab.kernel.invokeFunction('convertToInteractive',\n",
       "                                                     [key], {});\n",
       "          if (!dataTable) return;\n",
       "\n",
       "          const docLinkHtml = 'Like what you see? Visit the ' +\n",
       "            '<a target=\"_blank\" href=https://colab.research.google.com/notebooks/data_table.ipynb>data table notebook</a>'\n",
       "            + ' to learn more about interactive tables.';\n",
       "          element.innerHTML = '';\n",
       "          dataTable['output_type'] = 'display_data';\n",
       "          await google.colab.output.renderOutput(dataTable, element);\n",
       "          const docLink = document.createElement('div');\n",
       "          docLink.innerHTML = docLinkHtml;\n",
       "          element.appendChild(docLink);\n",
       "        }\n",
       "      </script>\n",
       "    </div>\n",
       "  </div>\n",
       "  "
      ],
      "text/plain": [
       "          SVM\n",
       "SCORE  0.8851"
      ]
     },
     "execution_count": 12,
     "metadata": {},
     "output_type": "execute_result"
    }
   ],
   "source": [
    "Y_pred_svc_test = svc.predict(X_test)\n",
    "acc_svc_test = accuracy_score(Y_test, Y_pred_svc_test)\n",
    "\n",
    "models_scores[\"SVM\"] = acc_svc_test\n",
    "models_scores"
   ]
  },
  {
   "cell_type": "markdown",
   "metadata": {
    "id": "Gcmt1Qf24ow2"
   },
   "source": [
    "#### K Nearest Neighbors"
   ]
  },
  {
   "cell_type": "markdown",
   "metadata": {
    "id": "rWWBRHvkwfUT"
   },
   "source": [
    "(Execution Time: 5 min)"
   ]
  },
  {
   "cell_type": "code",
   "execution_count": null,
   "metadata": {
    "colab": {
     "base_uri": "https://localhost:8080/"
    },
    "id": "wbknI_nS4r6D",
    "outputId": "59027dfe-e107-424b-c35a-d00f6d68c504"
   },
   "outputs": [
    {
     "name": "stdout",
     "output_type": "stream",
     "text": [
      "k=2\n",
      "ACCURACY: TRAIN = 0.927896 VAL = 0.844000\n",
      "k=3\n",
      "ACCURACY: TRAIN = 0.920312 VAL = 0.856000\n",
      "k=4\n",
      "ACCURACY: TRAIN = 0.909271 VAL = 0.860667\n",
      "k=5\n",
      "ACCURACY: TRAIN = 0.903312 VAL = 0.863417\n",
      "k=7\n",
      "ACCURACY: TRAIN = 0.892604 VAL = 0.862667\n",
      "k=10\n",
      "ACCURACY: TRAIN = 0.885271 VAL = 0.860500\n"
     ]
    }
   ],
   "source": [
    "from sklearn.neighbors import KNeighborsClassifier\n",
    "Ks = [2,3,4,5,7,10]\n",
    "\n",
    "for k in Ks:\n",
    "  print(\"k=\"+str(k))\n",
    "  knn = KNeighborsClassifier(n_neighbors = k)\n",
    "  knn.fit(X_train, Y_train)\n",
    "\n",
    "  Y_pred_train = knn.predict(X_train)\n",
    "  Y_pred_val = knn.predict(X_val)\n",
    "\n",
    "  acc_knn_train = accuracy_score(Y_train, Y_pred_train)\n",
    "  acc_knn_val = accuracy_score(Y_val, Y_pred_val)\n",
    "\n",
    "  print(\"ACCURACY: TRAIN = %f VAL = %f\" % (acc_knn_train, acc_knn_val)) "
   ]
  },
  {
   "cell_type": "code",
   "execution_count": null,
   "metadata": {
    "colab": {
     "base_uri": "https://localhost:8080/",
     "height": 81
    },
    "id": "mm_nEHYq6VVa",
    "outputId": "28dde26e-0f40-47d3-d3f7-026f0c92ac7c"
   },
   "outputs": [
    {
     "data": {
      "text/html": [
       "\n",
       "  <div id=\"df-783c2e92-f35c-4a1e-98f6-e5fffb1806b5\">\n",
       "    <div class=\"colab-df-container\">\n",
       "      <div>\n",
       "<style scoped>\n",
       "    .dataframe tbody tr th:only-of-type {\n",
       "        vertical-align: middle;\n",
       "    }\n",
       "\n",
       "    .dataframe tbody tr th {\n",
       "        vertical-align: top;\n",
       "    }\n",
       "\n",
       "    .dataframe thead th {\n",
       "        text-align: right;\n",
       "    }\n",
       "</style>\n",
       "<table border=\"1\" class=\"dataframe\">\n",
       "  <thead>\n",
       "    <tr style=\"text-align: right;\">\n",
       "      <th></th>\n",
       "      <th>SVM</th>\n",
       "      <th>KNN_10</th>\n",
       "    </tr>\n",
       "  </thead>\n",
       "  <tbody>\n",
       "    <tr>\n",
       "      <th>SCORE</th>\n",
       "      <td>0.8851</td>\n",
       "      <td>0.8584</td>\n",
       "    </tr>\n",
       "  </tbody>\n",
       "</table>\n",
       "</div>\n",
       "      <button class=\"colab-df-convert\" onclick=\"convertToInteractive('df-783c2e92-f35c-4a1e-98f6-e5fffb1806b5')\"\n",
       "              title=\"Convert this dataframe to an interactive table.\"\n",
       "              style=\"display:none;\">\n",
       "        \n",
       "  <svg xmlns=\"http://www.w3.org/2000/svg\" height=\"24px\"viewBox=\"0 0 24 24\"\n",
       "       width=\"24px\">\n",
       "    <path d=\"M0 0h24v24H0V0z\" fill=\"none\"/>\n",
       "    <path d=\"M18.56 5.44l.94 2.06.94-2.06 2.06-.94-2.06-.94-.94-2.06-.94 2.06-2.06.94zm-11 1L8.5 8.5l.94-2.06 2.06-.94-2.06-.94L8.5 2.5l-.94 2.06-2.06.94zm10 10l.94 2.06.94-2.06 2.06-.94-2.06-.94-.94-2.06-.94 2.06-2.06.94z\"/><path d=\"M17.41 7.96l-1.37-1.37c-.4-.4-.92-.59-1.43-.59-.52 0-1.04.2-1.43.59L10.3 9.45l-7.72 7.72c-.78.78-.78 2.05 0 2.83L4 21.41c.39.39.9.59 1.41.59.51 0 1.02-.2 1.41-.59l7.78-7.78 2.81-2.81c.8-.78.8-2.07 0-2.86zM5.41 20L4 18.59l7.72-7.72 1.47 1.35L5.41 20z\"/>\n",
       "  </svg>\n",
       "      </button>\n",
       "      \n",
       "  <style>\n",
       "    .colab-df-container {\n",
       "      display:flex;\n",
       "      flex-wrap:wrap;\n",
       "      gap: 12px;\n",
       "    }\n",
       "\n",
       "    .colab-df-convert {\n",
       "      background-color: #E8F0FE;\n",
       "      border: none;\n",
       "      border-radius: 50%;\n",
       "      cursor: pointer;\n",
       "      display: none;\n",
       "      fill: #1967D2;\n",
       "      height: 32px;\n",
       "      padding: 0 0 0 0;\n",
       "      width: 32px;\n",
       "    }\n",
       "\n",
       "    .colab-df-convert:hover {\n",
       "      background-color: #E2EBFA;\n",
       "      box-shadow: 0px 1px 2px rgba(60, 64, 67, 0.3), 0px 1px 3px 1px rgba(60, 64, 67, 0.15);\n",
       "      fill: #174EA6;\n",
       "    }\n",
       "\n",
       "    [theme=dark] .colab-df-convert {\n",
       "      background-color: #3B4455;\n",
       "      fill: #D2E3FC;\n",
       "    }\n",
       "\n",
       "    [theme=dark] .colab-df-convert:hover {\n",
       "      background-color: #434B5C;\n",
       "      box-shadow: 0px 1px 3px 1px rgba(0, 0, 0, 0.15);\n",
       "      filter: drop-shadow(0px 1px 2px rgba(0, 0, 0, 0.3));\n",
       "      fill: #FFFFFF;\n",
       "    }\n",
       "  </style>\n",
       "\n",
       "      <script>\n",
       "        const buttonEl =\n",
       "          document.querySelector('#df-783c2e92-f35c-4a1e-98f6-e5fffb1806b5 button.colab-df-convert');\n",
       "        buttonEl.style.display =\n",
       "          google.colab.kernel.accessAllowed ? 'block' : 'none';\n",
       "\n",
       "        async function convertToInteractive(key) {\n",
       "          const element = document.querySelector('#df-783c2e92-f35c-4a1e-98f6-e5fffb1806b5');\n",
       "          const dataTable =\n",
       "            await google.colab.kernel.invokeFunction('convertToInteractive',\n",
       "                                                     [key], {});\n",
       "          if (!dataTable) return;\n",
       "\n",
       "          const docLinkHtml = 'Like what you see? Visit the ' +\n",
       "            '<a target=\"_blank\" href=https://colab.research.google.com/notebooks/data_table.ipynb>data table notebook</a>'\n",
       "            + ' to learn more about interactive tables.';\n",
       "          element.innerHTML = '';\n",
       "          dataTable['output_type'] = 'display_data';\n",
       "          await google.colab.output.renderOutput(dataTable, element);\n",
       "          const docLink = document.createElement('div');\n",
       "          docLink.innerHTML = docLinkHtml;\n",
       "          element.appendChild(docLink);\n",
       "        }\n",
       "      </script>\n",
       "    </div>\n",
       "  </div>\n",
       "  "
      ],
      "text/plain": [
       "          SVM  KNN_10\n",
       "SCORE  0.8851  0.8584"
      ]
     },
     "execution_count": 15,
     "metadata": {},
     "output_type": "execute_result"
    }
   ],
   "source": [
    "#We choose the best model of them for the final choice using the test set:\n",
    "#from the results below we can see that the model that predicts in a better way is the K-Nearest Neighbors algorithm with the \n",
    "#parameter \"number of neighbors\" set equal to 10.\n",
    "\n",
    "knn10 = KNeighborsClassifier(n_neighbors = 10)\n",
    "knn10.fit(X_train, Y_train)\n",
    "\n",
    "Y_pred_test = knn10.predict(X_test)\n",
    "acc_knn_test = accuracy_score(Y_test, Y_pred_test)\n",
    "\n",
    "models_scores[\"KNN_10\"] = acc_knn_test\n",
    "models_scores"
   ]
  },
  {
   "cell_type": "markdown",
   "metadata": {
    "id": "Tb0fbCum-Ppp"
   },
   "source": [
    "#### Random Forest"
   ]
  },
  {
   "cell_type": "markdown",
   "metadata": {
    "id": "s-FztrKIyTJh"
   },
   "source": [
    "(Execution Time: < 1 min)"
   ]
  },
  {
   "cell_type": "code",
   "execution_count": null,
   "metadata": {
    "colab": {
     "base_uri": "https://localhost:8080/"
    },
    "id": "mCaBnFp_BsvK",
    "outputId": "69ed6f5c-e8b0-4031-8a99-29c436e4d665"
   },
   "outputs": [
    {
     "name": "stdout",
     "output_type": "stream",
     "text": [
      "ACCURACY: TRAIN = 0.869875 VAL = 0.836417\n"
     ]
    }
   ],
   "source": [
    "from sklearn.ensemble import RandomForestClassifier\n",
    "rforest = RandomForestClassifier(random_state = 123, max_depth = 10)\n",
    "rforest.fit(X_train, Y_train)\n",
    "\n",
    "Y_pred_rforest_train = rforest.predict(X_train)\n",
    "Y_pred_rforest_val = rforest.predict(X_val)\n",
    "\n",
    "acc_rforest_train = accuracy_score(Y_train, Y_pred_rforest_train)\n",
    "acc_rforest_val = accuracy_score(Y_val, Y_pred_rforest_val)\n",
    "\n",
    "print(\"ACCURACY: TRAIN = %f VAL = %f\" % (acc_rforest_train, acc_rforest_val))"
   ]
  },
  {
   "cell_type": "code",
   "execution_count": null,
   "metadata": {
    "colab": {
     "base_uri": "https://localhost:8080/",
     "height": 81
    },
    "id": "V5hnoHB5Bxcw",
    "outputId": "2ca2ba9b-8243-45ee-bdff-5e7cd3a87050"
   },
   "outputs": [
    {
     "data": {
      "text/html": [
       "\n",
       "  <div id=\"df-48eb2f32-261f-4fe4-ac95-f3d034f24762\">\n",
       "    <div class=\"colab-df-container\">\n",
       "      <div>\n",
       "<style scoped>\n",
       "    .dataframe tbody tr th:only-of-type {\n",
       "        vertical-align: middle;\n",
       "    }\n",
       "\n",
       "    .dataframe tbody tr th {\n",
       "        vertical-align: top;\n",
       "    }\n",
       "\n",
       "    .dataframe thead th {\n",
       "        text-align: right;\n",
       "    }\n",
       "</style>\n",
       "<table border=\"1\" class=\"dataframe\">\n",
       "  <thead>\n",
       "    <tr style=\"text-align: right;\">\n",
       "      <th></th>\n",
       "      <th>SVM</th>\n",
       "      <th>KNN_10</th>\n",
       "      <th>Random_Forest</th>\n",
       "    </tr>\n",
       "  </thead>\n",
       "  <tbody>\n",
       "    <tr>\n",
       "      <th>SCORE</th>\n",
       "      <td>0.8851</td>\n",
       "      <td>0.8584</td>\n",
       "      <td>0.8212</td>\n",
       "    </tr>\n",
       "  </tbody>\n",
       "</table>\n",
       "</div>\n",
       "      <button class=\"colab-df-convert\" onclick=\"convertToInteractive('df-48eb2f32-261f-4fe4-ac95-f3d034f24762')\"\n",
       "              title=\"Convert this dataframe to an interactive table.\"\n",
       "              style=\"display:none;\">\n",
       "        \n",
       "  <svg xmlns=\"http://www.w3.org/2000/svg\" height=\"24px\"viewBox=\"0 0 24 24\"\n",
       "       width=\"24px\">\n",
       "    <path d=\"M0 0h24v24H0V0z\" fill=\"none\"/>\n",
       "    <path d=\"M18.56 5.44l.94 2.06.94-2.06 2.06-.94-2.06-.94-.94-2.06-.94 2.06-2.06.94zm-11 1L8.5 8.5l.94-2.06 2.06-.94-2.06-.94L8.5 2.5l-.94 2.06-2.06.94zm10 10l.94 2.06.94-2.06 2.06-.94-2.06-.94-.94-2.06-.94 2.06-2.06.94z\"/><path d=\"M17.41 7.96l-1.37-1.37c-.4-.4-.92-.59-1.43-.59-.52 0-1.04.2-1.43.59L10.3 9.45l-7.72 7.72c-.78.78-.78 2.05 0 2.83L4 21.41c.39.39.9.59 1.41.59.51 0 1.02-.2 1.41-.59l7.78-7.78 2.81-2.81c.8-.78.8-2.07 0-2.86zM5.41 20L4 18.59l7.72-7.72 1.47 1.35L5.41 20z\"/>\n",
       "  </svg>\n",
       "      </button>\n",
       "      \n",
       "  <style>\n",
       "    .colab-df-container {\n",
       "      display:flex;\n",
       "      flex-wrap:wrap;\n",
       "      gap: 12px;\n",
       "    }\n",
       "\n",
       "    .colab-df-convert {\n",
       "      background-color: #E8F0FE;\n",
       "      border: none;\n",
       "      border-radius: 50%;\n",
       "      cursor: pointer;\n",
       "      display: none;\n",
       "      fill: #1967D2;\n",
       "      height: 32px;\n",
       "      padding: 0 0 0 0;\n",
       "      width: 32px;\n",
       "    }\n",
       "\n",
       "    .colab-df-convert:hover {\n",
       "      background-color: #E2EBFA;\n",
       "      box-shadow: 0px 1px 2px rgba(60, 64, 67, 0.3), 0px 1px 3px 1px rgba(60, 64, 67, 0.15);\n",
       "      fill: #174EA6;\n",
       "    }\n",
       "\n",
       "    [theme=dark] .colab-df-convert {\n",
       "      background-color: #3B4455;\n",
       "      fill: #D2E3FC;\n",
       "    }\n",
       "\n",
       "    [theme=dark] .colab-df-convert:hover {\n",
       "      background-color: #434B5C;\n",
       "      box-shadow: 0px 1px 3px 1px rgba(0, 0, 0, 0.15);\n",
       "      filter: drop-shadow(0px 1px 2px rgba(0, 0, 0, 0.3));\n",
       "      fill: #FFFFFF;\n",
       "    }\n",
       "  </style>\n",
       "\n",
       "      <script>\n",
       "        const buttonEl =\n",
       "          document.querySelector('#df-48eb2f32-261f-4fe4-ac95-f3d034f24762 button.colab-df-convert');\n",
       "        buttonEl.style.display =\n",
       "          google.colab.kernel.accessAllowed ? 'block' : 'none';\n",
       "\n",
       "        async function convertToInteractive(key) {\n",
       "          const element = document.querySelector('#df-48eb2f32-261f-4fe4-ac95-f3d034f24762');\n",
       "          const dataTable =\n",
       "            await google.colab.kernel.invokeFunction('convertToInteractive',\n",
       "                                                     [key], {});\n",
       "          if (!dataTable) return;\n",
       "\n",
       "          const docLinkHtml = 'Like what you see? Visit the ' +\n",
       "            '<a target=\"_blank\" href=https://colab.research.google.com/notebooks/data_table.ipynb>data table notebook</a>'\n",
       "            + ' to learn more about interactive tables.';\n",
       "          element.innerHTML = '';\n",
       "          dataTable['output_type'] = 'display_data';\n",
       "          await google.colab.output.renderOutput(dataTable, element);\n",
       "          const docLink = document.createElement('div');\n",
       "          docLink.innerHTML = docLinkHtml;\n",
       "          element.appendChild(docLink);\n",
       "        }\n",
       "      </script>\n",
       "    </div>\n",
       "  </div>\n",
       "  "
      ],
      "text/plain": [
       "          SVM  KNN_10  Random_Forest\n",
       "SCORE  0.8851  0.8584         0.8212"
      ]
     },
     "execution_count": 17,
     "metadata": {},
     "output_type": "execute_result"
    }
   ],
   "source": [
    "Y_pred_rforest_test = rforest.predict(X_test)\n",
    "acc_rforest_test = accuracy_score(Y_test, Y_pred_rforest_test)\n",
    "\n",
    "models_scores[\"Random_Forest\"] = acc_rforest_test\n",
    "models_scores"
   ]
  },
  {
   "cell_type": "markdown",
   "metadata": {
    "id": "x2PtHDZly2U_"
   },
   "source": [
    "#### Bagging Classifier"
   ]
  },
  {
   "cell_type": "markdown",
   "metadata": {
    "id": "kMlY3fRCy54d"
   },
   "source": [
    "(Execution Time: 20 min)"
   ]
  },
  {
   "cell_type": "code",
   "execution_count": null,
   "metadata": {
    "colab": {
     "base_uri": "https://localhost:8080/"
    },
    "id": "bjyls09SCdUN",
    "outputId": "39c1067a-295d-4a2e-9152-9ad82b0983b1"
   },
   "outputs": [
    {
     "name": "stdout",
     "output_type": "stream",
     "text": [
      "ACCURACY: TRAIN = 0.926583 VAL = 0.895500\n"
     ]
    }
   ],
   "source": [
    "from sklearn.ensemble import BaggingClassifier\n",
    "bagg = BaggingClassifier(base_estimator = SVC(), random_state = 123)\n",
    "bagg.fit(X_train,Y_train)\n",
    "\n",
    "Y_pred_bagg_train = bagg.predict(X_train)\n",
    "Y_pred_bagg_val = bagg.predict(X_val)\n",
    "\n",
    "acc_bagg_train = accuracy_score(Y_train, Y_pred_bagg_train)\n",
    "acc_bagg_val = accuracy_score(Y_val, Y_pred_bagg_val)\n",
    "\n",
    "print(\"ACCURACY: TRAIN = %f VAL = %f\" % (acc_bagg_train, acc_bagg_val))"
   ]
  },
  {
   "cell_type": "code",
   "execution_count": null,
   "metadata": {
    "colab": {
     "base_uri": "https://localhost:8080/",
     "height": 81
    },
    "id": "O3TKp96CDYq-",
    "outputId": "a6ca5ba7-2ee5-4bb6-b7bc-37c22d1efb78"
   },
   "outputs": [
    {
     "data": {
      "text/html": [
       "\n",
       "  <div id=\"df-8bacf28c-b378-4d37-ac63-1517a2ade6c6\">\n",
       "    <div class=\"colab-df-container\">\n",
       "      <div>\n",
       "<style scoped>\n",
       "    .dataframe tbody tr th:only-of-type {\n",
       "        vertical-align: middle;\n",
       "    }\n",
       "\n",
       "    .dataframe tbody tr th {\n",
       "        vertical-align: top;\n",
       "    }\n",
       "\n",
       "    .dataframe thead th {\n",
       "        text-align: right;\n",
       "    }\n",
       "</style>\n",
       "<table border=\"1\" class=\"dataframe\">\n",
       "  <thead>\n",
       "    <tr style=\"text-align: right;\">\n",
       "      <th></th>\n",
       "      <th>SVM</th>\n",
       "      <th>KNN_10</th>\n",
       "      <th>Random_Forest</th>\n",
       "      <th>BaggingClassifier</th>\n",
       "    </tr>\n",
       "  </thead>\n",
       "  <tbody>\n",
       "    <tr>\n",
       "      <th>SCORE</th>\n",
       "      <td>0.8851</td>\n",
       "      <td>0.8584</td>\n",
       "      <td>0.8212</td>\n",
       "      <td>0.8855</td>\n",
       "    </tr>\n",
       "  </tbody>\n",
       "</table>\n",
       "</div>\n",
       "      <button class=\"colab-df-convert\" onclick=\"convertToInteractive('df-8bacf28c-b378-4d37-ac63-1517a2ade6c6')\"\n",
       "              title=\"Convert this dataframe to an interactive table.\"\n",
       "              style=\"display:none;\">\n",
       "        \n",
       "  <svg xmlns=\"http://www.w3.org/2000/svg\" height=\"24px\"viewBox=\"0 0 24 24\"\n",
       "       width=\"24px\">\n",
       "    <path d=\"M0 0h24v24H0V0z\" fill=\"none\"/>\n",
       "    <path d=\"M18.56 5.44l.94 2.06.94-2.06 2.06-.94-2.06-.94-.94-2.06-.94 2.06-2.06.94zm-11 1L8.5 8.5l.94-2.06 2.06-.94-2.06-.94L8.5 2.5l-.94 2.06-2.06.94zm10 10l.94 2.06.94-2.06 2.06-.94-2.06-.94-.94-2.06-.94 2.06-2.06.94z\"/><path d=\"M17.41 7.96l-1.37-1.37c-.4-.4-.92-.59-1.43-.59-.52 0-1.04.2-1.43.59L10.3 9.45l-7.72 7.72c-.78.78-.78 2.05 0 2.83L4 21.41c.39.39.9.59 1.41.59.51 0 1.02-.2 1.41-.59l7.78-7.78 2.81-2.81c.8-.78.8-2.07 0-2.86zM5.41 20L4 18.59l7.72-7.72 1.47 1.35L5.41 20z\"/>\n",
       "  </svg>\n",
       "      </button>\n",
       "      \n",
       "  <style>\n",
       "    .colab-df-container {\n",
       "      display:flex;\n",
       "      flex-wrap:wrap;\n",
       "      gap: 12px;\n",
       "    }\n",
       "\n",
       "    .colab-df-convert {\n",
       "      background-color: #E8F0FE;\n",
       "      border: none;\n",
       "      border-radius: 50%;\n",
       "      cursor: pointer;\n",
       "      display: none;\n",
       "      fill: #1967D2;\n",
       "      height: 32px;\n",
       "      padding: 0 0 0 0;\n",
       "      width: 32px;\n",
       "    }\n",
       "\n",
       "    .colab-df-convert:hover {\n",
       "      background-color: #E2EBFA;\n",
       "      box-shadow: 0px 1px 2px rgba(60, 64, 67, 0.3), 0px 1px 3px 1px rgba(60, 64, 67, 0.15);\n",
       "      fill: #174EA6;\n",
       "    }\n",
       "\n",
       "    [theme=dark] .colab-df-convert {\n",
       "      background-color: #3B4455;\n",
       "      fill: #D2E3FC;\n",
       "    }\n",
       "\n",
       "    [theme=dark] .colab-df-convert:hover {\n",
       "      background-color: #434B5C;\n",
       "      box-shadow: 0px 1px 3px 1px rgba(0, 0, 0, 0.15);\n",
       "      filter: drop-shadow(0px 1px 2px rgba(0, 0, 0, 0.3));\n",
       "      fill: #FFFFFF;\n",
       "    }\n",
       "  </style>\n",
       "\n",
       "      <script>\n",
       "        const buttonEl =\n",
       "          document.querySelector('#df-8bacf28c-b378-4d37-ac63-1517a2ade6c6 button.colab-df-convert');\n",
       "        buttonEl.style.display =\n",
       "          google.colab.kernel.accessAllowed ? 'block' : 'none';\n",
       "\n",
       "        async function convertToInteractive(key) {\n",
       "          const element = document.querySelector('#df-8bacf28c-b378-4d37-ac63-1517a2ade6c6');\n",
       "          const dataTable =\n",
       "            await google.colab.kernel.invokeFunction('convertToInteractive',\n",
       "                                                     [key], {});\n",
       "          if (!dataTable) return;\n",
       "\n",
       "          const docLinkHtml = 'Like what you see? Visit the ' +\n",
       "            '<a target=\"_blank\" href=https://colab.research.google.com/notebooks/data_table.ipynb>data table notebook</a>'\n",
       "            + ' to learn more about interactive tables.';\n",
       "          element.innerHTML = '';\n",
       "          dataTable['output_type'] = 'display_data';\n",
       "          await google.colab.output.renderOutput(dataTable, element);\n",
       "          const docLink = document.createElement('div');\n",
       "          docLink.innerHTML = docLinkHtml;\n",
       "          element.appendChild(docLink);\n",
       "        }\n",
       "      </script>\n",
       "    </div>\n",
       "  </div>\n",
       "  "
      ],
      "text/plain": [
       "          SVM  KNN_10  Random_Forest  BaggingClassifier\n",
       "SCORE  0.8851  0.8584         0.8212             0.8855"
      ]
     },
     "execution_count": 19,
     "metadata": {},
     "output_type": "execute_result"
    }
   ],
   "source": [
    "Y_pred_bagg_test = bagg.predict(X_test)\n",
    "acc_bagg_test = accuracy_score(Y_test, Y_pred_bagg_test)\n",
    "\n",
    "models_scores[\"BaggingClassifier\"] = acc_bagg_test\n",
    "models_scores"
   ]
  },
  {
   "cell_type": "markdown",
   "metadata": {
    "id": "wlp56X1jzCyG"
   },
   "source": [
    "#### Stacking Classifier"
   ]
  },
  {
   "cell_type": "markdown",
   "metadata": {
    "id": "EW_GHNDEzE0B"
   },
   "source": [
    "(Execution Time: 11 min)"
   ]
  },
  {
   "cell_type": "code",
   "execution_count": null,
   "metadata": {
    "colab": {
     "base_uri": "https://localhost:8080/"
    },
    "id": "M5Msad_3G1rv",
    "outputId": "8ba35bb5-7981-447a-d22d-4c761059cb62"
   },
   "outputs": [
    {
     "name": "stdout",
     "output_type": "stream",
     "text": [
      "ACCURACY: TRAIN = 0.943937 VAL = 0.892750\n"
     ]
    }
   ],
   "source": [
    "from sklearn.ensemble import StackingClassifier\n",
    "\n",
    "estimators = [('svc', svc), ('knn10', knn10)]\n",
    "stk = StackingClassifier(estimators = estimators, final_estimator = RandomForestClassifier())\n",
    "stk.fit(X_train,Y_train)\n",
    "\n",
    "Y_pred_stk_train = stk.predict(X_train)\n",
    "Y_pred_stk_val = stk.predict(X_val)\n",
    "\n",
    "acc_stk_train = accuracy_score(Y_train, Y_pred_stk_train)\n",
    "acc_stk_val = accuracy_score(Y_val, Y_pred_stk_val)\n",
    "\n",
    "print(\"ACCURACY: TRAIN = %f VAL = %f\" % (acc_stk_train, acc_stk_val))"
   ]
  },
  {
   "cell_type": "code",
   "execution_count": null,
   "metadata": {
    "colab": {
     "base_uri": "https://localhost:8080/",
     "height": 81
    },
    "id": "SSZ_Fa8YPrBF",
    "outputId": "3991e142-59bd-45cc-8abe-41eeba438079"
   },
   "outputs": [
    {
     "data": {
      "text/html": [
       "\n",
       "  <div id=\"df-64c92e37-5c75-4eb6-a76c-e9d6f53f9a27\">\n",
       "    <div class=\"colab-df-container\">\n",
       "      <div>\n",
       "<style scoped>\n",
       "    .dataframe tbody tr th:only-of-type {\n",
       "        vertical-align: middle;\n",
       "    }\n",
       "\n",
       "    .dataframe tbody tr th {\n",
       "        vertical-align: top;\n",
       "    }\n",
       "\n",
       "    .dataframe thead th {\n",
       "        text-align: right;\n",
       "    }\n",
       "</style>\n",
       "<table border=\"1\" class=\"dataframe\">\n",
       "  <thead>\n",
       "    <tr style=\"text-align: right;\">\n",
       "      <th></th>\n",
       "      <th>SVM</th>\n",
       "      <th>KNN_10</th>\n",
       "      <th>Random_Forest</th>\n",
       "      <th>BaggingClassifier</th>\n",
       "      <th>StackingClassifier</th>\n",
       "    </tr>\n",
       "  </thead>\n",
       "  <tbody>\n",
       "    <tr>\n",
       "      <th>SCORE</th>\n",
       "      <td>0.8851</td>\n",
       "      <td>0.8584</td>\n",
       "      <td>0.8212</td>\n",
       "      <td>0.8855</td>\n",
       "      <td>0.8846</td>\n",
       "    </tr>\n",
       "  </tbody>\n",
       "</table>\n",
       "</div>\n",
       "      <button class=\"colab-df-convert\" onclick=\"convertToInteractive('df-64c92e37-5c75-4eb6-a76c-e9d6f53f9a27')\"\n",
       "              title=\"Convert this dataframe to an interactive table.\"\n",
       "              style=\"display:none;\">\n",
       "        \n",
       "  <svg xmlns=\"http://www.w3.org/2000/svg\" height=\"24px\"viewBox=\"0 0 24 24\"\n",
       "       width=\"24px\">\n",
       "    <path d=\"M0 0h24v24H0V0z\" fill=\"none\"/>\n",
       "    <path d=\"M18.56 5.44l.94 2.06.94-2.06 2.06-.94-2.06-.94-.94-2.06-.94 2.06-2.06.94zm-11 1L8.5 8.5l.94-2.06 2.06-.94-2.06-.94L8.5 2.5l-.94 2.06-2.06.94zm10 10l.94 2.06.94-2.06 2.06-.94-2.06-.94-.94-2.06-.94 2.06-2.06.94z\"/><path d=\"M17.41 7.96l-1.37-1.37c-.4-.4-.92-.59-1.43-.59-.52 0-1.04.2-1.43.59L10.3 9.45l-7.72 7.72c-.78.78-.78 2.05 0 2.83L4 21.41c.39.39.9.59 1.41.59.51 0 1.02-.2 1.41-.59l7.78-7.78 2.81-2.81c.8-.78.8-2.07 0-2.86zM5.41 20L4 18.59l7.72-7.72 1.47 1.35L5.41 20z\"/>\n",
       "  </svg>\n",
       "      </button>\n",
       "      \n",
       "  <style>\n",
       "    .colab-df-container {\n",
       "      display:flex;\n",
       "      flex-wrap:wrap;\n",
       "      gap: 12px;\n",
       "    }\n",
       "\n",
       "    .colab-df-convert {\n",
       "      background-color: #E8F0FE;\n",
       "      border: none;\n",
       "      border-radius: 50%;\n",
       "      cursor: pointer;\n",
       "      display: none;\n",
       "      fill: #1967D2;\n",
       "      height: 32px;\n",
       "      padding: 0 0 0 0;\n",
       "      width: 32px;\n",
       "    }\n",
       "\n",
       "    .colab-df-convert:hover {\n",
       "      background-color: #E2EBFA;\n",
       "      box-shadow: 0px 1px 2px rgba(60, 64, 67, 0.3), 0px 1px 3px 1px rgba(60, 64, 67, 0.15);\n",
       "      fill: #174EA6;\n",
       "    }\n",
       "\n",
       "    [theme=dark] .colab-df-convert {\n",
       "      background-color: #3B4455;\n",
       "      fill: #D2E3FC;\n",
       "    }\n",
       "\n",
       "    [theme=dark] .colab-df-convert:hover {\n",
       "      background-color: #434B5C;\n",
       "      box-shadow: 0px 1px 3px 1px rgba(0, 0, 0, 0.15);\n",
       "      filter: drop-shadow(0px 1px 2px rgba(0, 0, 0, 0.3));\n",
       "      fill: #FFFFFF;\n",
       "    }\n",
       "  </style>\n",
       "\n",
       "      <script>\n",
       "        const buttonEl =\n",
       "          document.querySelector('#df-64c92e37-5c75-4eb6-a76c-e9d6f53f9a27 button.colab-df-convert');\n",
       "        buttonEl.style.display =\n",
       "          google.colab.kernel.accessAllowed ? 'block' : 'none';\n",
       "\n",
       "        async function convertToInteractive(key) {\n",
       "          const element = document.querySelector('#df-64c92e37-5c75-4eb6-a76c-e9d6f53f9a27');\n",
       "          const dataTable =\n",
       "            await google.colab.kernel.invokeFunction('convertToInteractive',\n",
       "                                                     [key], {});\n",
       "          if (!dataTable) return;\n",
       "\n",
       "          const docLinkHtml = 'Like what you see? Visit the ' +\n",
       "            '<a target=\"_blank\" href=https://colab.research.google.com/notebooks/data_table.ipynb>data table notebook</a>'\n",
       "            + ' to learn more about interactive tables.';\n",
       "          element.innerHTML = '';\n",
       "          dataTable['output_type'] = 'display_data';\n",
       "          await google.colab.output.renderOutput(dataTable, element);\n",
       "          const docLink = document.createElement('div');\n",
       "          docLink.innerHTML = docLinkHtml;\n",
       "          element.appendChild(docLink);\n",
       "        }\n",
       "      </script>\n",
       "    </div>\n",
       "  </div>\n",
       "  "
      ],
      "text/plain": [
       "          SVM  KNN_10  Random_Forest  BaggingClassifier  StackingClassifier\n",
       "SCORE  0.8851  0.8584         0.8212             0.8855              0.8846"
      ]
     },
     "execution_count": 21,
     "metadata": {},
     "output_type": "execute_result"
    }
   ],
   "source": [
    "Y_pred_stk_test = stk.predict(X_test)\n",
    "acc_stk_test = accuracy_score(Y_test, Y_pred_stk_test)\n",
    "\n",
    "models_scores[\"StackingClassifier\"] = acc_stk_test\n",
    "models_scores"
   ]
  },
  {
   "cell_type": "markdown",
   "metadata": {
    "id": "Yk1DcgteIvBA"
   },
   "source": [
    "#### Neural Network"
   ]
  },
  {
   "cell_type": "markdown",
   "metadata": {
    "id": "jypgB-0uzKKm"
   },
   "source": [
    "(Execution Time: 3 min)"
   ]
  },
  {
   "cell_type": "code",
   "execution_count": null,
   "metadata": {
    "id": "19zyJyZg0ZmZ"
   },
   "outputs": [],
   "source": [
    "import tensorflow #the backend used by Keras (there are different beckend)\n",
    "from tensorflow.keras.models import Sequential #import the type of mpdel: sequential (e.g., MLP)\n",
    "from tensorflow.keras.layers import Input, Dense #simple linear layer\n",
    "from tensorflow.keras.utils import to_categorical # transformation for classification labels\n",
    "from keras.utils.vis_utils import plot_model\n",
    "from tensorflow.python.framework.random_seed import set_random_seed\n",
    "import matplotlib.pyplot as plt\n",
    "from keras.callbacks import EarlyStopping\n",
    "from keras.layers import Dropout"
   ]
  },
  {
   "cell_type": "code",
   "execution_count": null,
   "metadata": {
    "id": "tk2XiEzg0dtz"
   },
   "outputs": [],
   "source": [
    "feature_vector_length = 70\n",
    "num_classes = 10\n",
    "\n",
    "Y_train_cat = to_categorical(Y_train, num_classes)\n",
    "Y_val_cat = to_categorical(Y_val, num_classes)\n",
    "Y_test_cat = to_categorical(Y_test, num_classes)\n",
    "\n",
    "np.random.seed(123)\n",
    "set_random_seed(2)"
   ]
  },
  {
   "cell_type": "code",
   "execution_count": null,
   "metadata": {
    "id": "p5TZowSt0is-"
   },
   "outputs": [],
   "source": [
    "es = EarlyStopping(monitor='val_loss', #quantity to be monitored\n",
    "                   mode='min', #we look for decreasing patterns stop \n",
    "                   patience = 3, #number of epochs with no improvement\n",
    "                   verbose=1)"
   ]
  },
  {
   "cell_type": "code",
   "execution_count": null,
   "metadata": {
    "id": "-8yNlrA3Izfa"
   },
   "outputs": [],
   "source": [
    "model = Sequential()\n",
    "\n",
    "model.add(Dense(input_dim = feature_vector_length, units = 50, activation = \"relu\"))\n",
    "model.add(Dropout(0.4))\n",
    "\n",
    "model.add(Dense(units = num_classes, activation = \"softmax\"))\n",
    "\n",
    "model.compile(loss=\"categorical_crossentropy\",\n",
    "             optimizer = \"sgd\",\n",
    "             metrics = [\"accuracy\"])"
   ]
  },
  {
   "cell_type": "code",
   "execution_count": null,
   "metadata": {
    "colab": {
     "base_uri": "https://localhost:8080/"
    },
    "id": "fhfV2Tep0H__",
    "outputId": "4db7d9af-0178-42b5-beae-b0a46b247e62"
   },
   "outputs": [
    {
     "name": "stdout",
     "output_type": "stream",
     "text": [
      "Epoch 1/500\n",
      "96/96 [==============================] - 1s 6ms/step - loss: 2.3571 - accuracy: 0.1061 - val_loss: 2.2883 - val_accuracy: 0.1182\n",
      "Epoch 2/500\n",
      "96/96 [==============================] - 0s 4ms/step - loss: 2.2983 - accuracy: 0.1180 - val_loss: 2.2692 - val_accuracy: 0.1523\n",
      "Epoch 3/500\n",
      "96/96 [==============================] - 0s 4ms/step - loss: 2.2744 - accuracy: 0.1387 - val_loss: 2.2554 - val_accuracy: 0.1992\n",
      "Epoch 4/500\n",
      "96/96 [==============================] - 0s 4ms/step - loss: 2.2600 - accuracy: 0.1557 - val_loss: 2.2431 - val_accuracy: 0.2529\n",
      "Epoch 5/500\n",
      "96/96 [==============================] - 0s 4ms/step - loss: 2.2465 - accuracy: 0.1775 - val_loss: 2.2314 - val_accuracy: 0.2938\n",
      "Epoch 6/500\n",
      "96/96 [==============================] - 0s 4ms/step - loss: 2.2345 - accuracy: 0.1979 - val_loss: 2.2197 - val_accuracy: 0.3282\n",
      "Epoch 7/500\n",
      "96/96 [==============================] - 0s 4ms/step - loss: 2.2229 - accuracy: 0.2134 - val_loss: 2.2073 - val_accuracy: 0.3623\n",
      "Epoch 8/500\n",
      "96/96 [==============================] - 0s 4ms/step - loss: 2.2112 - accuracy: 0.2332 - val_loss: 2.1944 - val_accuracy: 0.3908\n",
      "Epoch 9/500\n",
      "96/96 [==============================] - 0s 4ms/step - loss: 2.1979 - accuracy: 0.2480 - val_loss: 2.1810 - val_accuracy: 0.4224\n",
      "Epoch 10/500\n",
      "96/96 [==============================] - 0s 4ms/step - loss: 2.1856 - accuracy: 0.2581 - val_loss: 2.1670 - val_accuracy: 0.4419\n",
      "Epoch 11/500\n",
      "96/96 [==============================] - 0s 4ms/step - loss: 2.1733 - accuracy: 0.2697 - val_loss: 2.1520 - val_accuracy: 0.4666\n",
      "Epoch 12/500\n",
      "96/96 [==============================] - 0s 3ms/step - loss: 2.1589 - accuracy: 0.2818 - val_loss: 2.1362 - val_accuracy: 0.4882\n",
      "Epoch 13/500\n",
      "96/96 [==============================] - 0s 4ms/step - loss: 2.1429 - accuracy: 0.2967 - val_loss: 2.1196 - val_accuracy: 0.5017\n",
      "Epoch 14/500\n",
      "96/96 [==============================] - 0s 4ms/step - loss: 2.1275 - accuracy: 0.3125 - val_loss: 2.1018 - val_accuracy: 0.5180\n",
      "Epoch 15/500\n",
      "96/96 [==============================] - 0s 4ms/step - loss: 2.1115 - accuracy: 0.3219 - val_loss: 2.0836 - val_accuracy: 0.5332\n",
      "Epoch 16/500\n",
      "96/96 [==============================] - 0s 4ms/step - loss: 2.0946 - accuracy: 0.3325 - val_loss: 2.0647 - val_accuracy: 0.5436\n",
      "Epoch 17/500\n",
      "96/96 [==============================] - 0s 4ms/step - loss: 2.0755 - accuracy: 0.3431 - val_loss: 2.0446 - val_accuracy: 0.5553\n",
      "Epoch 18/500\n",
      "96/96 [==============================] - 0s 4ms/step - loss: 2.0562 - accuracy: 0.3534 - val_loss: 2.0237 - val_accuracy: 0.5772\n",
      "Epoch 19/500\n",
      "96/96 [==============================] - 0s 4ms/step - loss: 2.0375 - accuracy: 0.3652 - val_loss: 2.0026 - val_accuracy: 0.5836\n",
      "Epoch 20/500\n",
      "96/96 [==============================] - 0s 4ms/step - loss: 2.0160 - accuracy: 0.3787 - val_loss: 1.9800 - val_accuracy: 0.5960\n",
      "Epoch 21/500\n",
      "96/96 [==============================] - 0s 4ms/step - loss: 1.9987 - accuracy: 0.3874 - val_loss: 1.9573 - val_accuracy: 0.6006\n",
      "Epoch 22/500\n",
      "96/96 [==============================] - 0s 4ms/step - loss: 1.9786 - accuracy: 0.3916 - val_loss: 1.9341 - val_accuracy: 0.6026\n",
      "Epoch 23/500\n",
      "96/96 [==============================] - 0s 4ms/step - loss: 1.9555 - accuracy: 0.4026 - val_loss: 1.9103 - val_accuracy: 0.6173\n",
      "Epoch 24/500\n",
      "96/96 [==============================] - 0s 4ms/step - loss: 1.9334 - accuracy: 0.4098 - val_loss: 1.8850 - val_accuracy: 0.6253\n",
      "Epoch 25/500\n",
      "96/96 [==============================] - 0s 4ms/step - loss: 1.9127 - accuracy: 0.4216 - val_loss: 1.8600 - val_accuracy: 0.6239\n",
      "Epoch 26/500\n",
      "96/96 [==============================] - 0s 4ms/step - loss: 1.8896 - accuracy: 0.4247 - val_loss: 1.8344 - val_accuracy: 0.6358\n",
      "Epoch 27/500\n",
      "96/96 [==============================] - 0s 4ms/step - loss: 1.8649 - accuracy: 0.4322 - val_loss: 1.8084 - val_accuracy: 0.6367\n",
      "Epoch 28/500\n",
      "96/96 [==============================] - 0s 4ms/step - loss: 1.8449 - accuracy: 0.4383 - val_loss: 1.7823 - val_accuracy: 0.6427\n",
      "Epoch 29/500\n",
      "96/96 [==============================] - 0s 4ms/step - loss: 1.8204 - accuracy: 0.4470 - val_loss: 1.7565 - val_accuracy: 0.6505\n",
      "Epoch 30/500\n",
      "96/96 [==============================] - 0s 4ms/step - loss: 1.7968 - accuracy: 0.4543 - val_loss: 1.7301 - val_accuracy: 0.6532\n",
      "Epoch 31/500\n",
      "96/96 [==============================] - 0s 4ms/step - loss: 1.7774 - accuracy: 0.4569 - val_loss: 1.7050 - val_accuracy: 0.6611\n",
      "Epoch 32/500\n",
      "96/96 [==============================] - 0s 4ms/step - loss: 1.7504 - accuracy: 0.4665 - val_loss: 1.6785 - val_accuracy: 0.6649\n",
      "Epoch 33/500\n",
      "96/96 [==============================] - 0s 4ms/step - loss: 1.7310 - accuracy: 0.4714 - val_loss: 1.6532 - val_accuracy: 0.6732\n",
      "Epoch 34/500\n",
      "96/96 [==============================] - 0s 4ms/step - loss: 1.7072 - accuracy: 0.4756 - val_loss: 1.6280 - val_accuracy: 0.6743\n",
      "Epoch 35/500\n",
      "96/96 [==============================] - 0s 4ms/step - loss: 1.6887 - accuracy: 0.4794 - val_loss: 1.6028 - val_accuracy: 0.6812\n",
      "Epoch 36/500\n",
      "96/96 [==============================] - 0s 4ms/step - loss: 1.6671 - accuracy: 0.4866 - val_loss: 1.5792 - val_accuracy: 0.6846\n",
      "Epoch 37/500\n",
      "96/96 [==============================] - 0s 4ms/step - loss: 1.6465 - accuracy: 0.4902 - val_loss: 1.5544 - val_accuracy: 0.6874\n",
      "Epoch 38/500\n",
      "96/96 [==============================] - 0s 4ms/step - loss: 1.6252 - accuracy: 0.4970 - val_loss: 1.5314 - val_accuracy: 0.6914\n",
      "Epoch 39/500\n",
      "96/96 [==============================] - 0s 4ms/step - loss: 1.6041 - accuracy: 0.5018 - val_loss: 1.5083 - val_accuracy: 0.6933\n",
      "Epoch 40/500\n",
      "96/96 [==============================] - 0s 4ms/step - loss: 1.5888 - accuracy: 0.5046 - val_loss: 1.4863 - val_accuracy: 0.6996\n",
      "Epoch 41/500\n",
      "96/96 [==============================] - 0s 4ms/step - loss: 1.5656 - accuracy: 0.5110 - val_loss: 1.4634 - val_accuracy: 0.7013\n",
      "Epoch 42/500\n",
      "96/96 [==============================] - 0s 4ms/step - loss: 1.5535 - accuracy: 0.5111 - val_loss: 1.4432 - val_accuracy: 0.7042\n",
      "Epoch 43/500\n",
      "96/96 [==============================] - 0s 4ms/step - loss: 1.5349 - accuracy: 0.5153 - val_loss: 1.4228 - val_accuracy: 0.7064\n",
      "Epoch 44/500\n",
      "96/96 [==============================] - 0s 4ms/step - loss: 1.5137 - accuracy: 0.5228 - val_loss: 1.4024 - val_accuracy: 0.7112\n",
      "Epoch 45/500\n",
      "96/96 [==============================] - 0s 4ms/step - loss: 1.4964 - accuracy: 0.5235 - val_loss: 1.3824 - val_accuracy: 0.7147\n",
      "Epoch 46/500\n",
      "96/96 [==============================] - 0s 4ms/step - loss: 1.4829 - accuracy: 0.5267 - val_loss: 1.3647 - val_accuracy: 0.7157\n",
      "Epoch 47/500\n",
      "96/96 [==============================] - 0s 4ms/step - loss: 1.4676 - accuracy: 0.5359 - val_loss: 1.3459 - val_accuracy: 0.7191\n",
      "Epoch 48/500\n",
      "96/96 [==============================] - 0s 4ms/step - loss: 1.4536 - accuracy: 0.5363 - val_loss: 1.3287 - val_accuracy: 0.7222\n",
      "Epoch 49/500\n",
      "96/96 [==============================] - 0s 4ms/step - loss: 1.4424 - accuracy: 0.5374 - val_loss: 1.3123 - val_accuracy: 0.7211\n",
      "Epoch 50/500\n",
      "96/96 [==============================] - 0s 4ms/step - loss: 1.4271 - accuracy: 0.5430 - val_loss: 1.2958 - val_accuracy: 0.7247\n",
      "Epoch 51/500\n",
      "96/96 [==============================] - 0s 4ms/step - loss: 1.4087 - accuracy: 0.5474 - val_loss: 1.2794 - val_accuracy: 0.7295\n",
      "Epoch 52/500\n",
      "96/96 [==============================] - 0s 4ms/step - loss: 1.3966 - accuracy: 0.5481 - val_loss: 1.2635 - val_accuracy: 0.7287\n",
      "Epoch 53/500\n",
      "96/96 [==============================] - 0s 4ms/step - loss: 1.3882 - accuracy: 0.5535 - val_loss: 1.2496 - val_accuracy: 0.7313\n",
      "Epoch 54/500\n",
      "96/96 [==============================] - 0s 4ms/step - loss: 1.3728 - accuracy: 0.5572 - val_loss: 1.2349 - val_accuracy: 0.7327\n",
      "Epoch 55/500\n",
      "96/96 [==============================] - 0s 4ms/step - loss: 1.3616 - accuracy: 0.5583 - val_loss: 1.2209 - val_accuracy: 0.7331\n",
      "Epoch 56/500\n",
      "96/96 [==============================] - 0s 4ms/step - loss: 1.3518 - accuracy: 0.5606 - val_loss: 1.2075 - val_accuracy: 0.7368\n",
      "Epoch 57/500\n",
      "96/96 [==============================] - 0s 4ms/step - loss: 1.3366 - accuracy: 0.5668 - val_loss: 1.1933 - val_accuracy: 0.7366\n",
      "Epoch 58/500\n",
      "96/96 [==============================] - 0s 4ms/step - loss: 1.3296 - accuracy: 0.5681 - val_loss: 1.1818 - val_accuracy: 0.7385\n",
      "Epoch 59/500\n",
      "96/96 [==============================] - 0s 4ms/step - loss: 1.3134 - accuracy: 0.5737 - val_loss: 1.1677 - val_accuracy: 0.7398\n",
      "Epoch 60/500\n",
      "96/96 [==============================] - 0s 4ms/step - loss: 1.3067 - accuracy: 0.5746 - val_loss: 1.1566 - val_accuracy: 0.7428\n",
      "Epoch 61/500\n",
      "96/96 [==============================] - 0s 4ms/step - loss: 1.2972 - accuracy: 0.5767 - val_loss: 1.1445 - val_accuracy: 0.7423\n",
      "Epoch 62/500\n",
      "96/96 [==============================] - 0s 4ms/step - loss: 1.2842 - accuracy: 0.5800 - val_loss: 1.1326 - val_accuracy: 0.7452\n",
      "Epoch 63/500\n",
      "96/96 [==============================] - 0s 4ms/step - loss: 1.2769 - accuracy: 0.5817 - val_loss: 1.1220 - val_accuracy: 0.7469\n",
      "Epoch 64/500\n",
      "96/96 [==============================] - 0s 4ms/step - loss: 1.2722 - accuracy: 0.5802 - val_loss: 1.1119 - val_accuracy: 0.7466\n",
      "Epoch 65/500\n",
      "96/96 [==============================] - 0s 4ms/step - loss: 1.2550 - accuracy: 0.5884 - val_loss: 1.1018 - val_accuracy: 0.7486\n",
      "Epoch 66/500\n",
      "96/96 [==============================] - 0s 4ms/step - loss: 1.2461 - accuracy: 0.5907 - val_loss: 1.0904 - val_accuracy: 0.7483\n",
      "Epoch 67/500\n",
      "96/96 [==============================] - 0s 4ms/step - loss: 1.2391 - accuracy: 0.5944 - val_loss: 1.0804 - val_accuracy: 0.7491\n",
      "Epoch 68/500\n",
      "96/96 [==============================] - 0s 4ms/step - loss: 1.2345 - accuracy: 0.5935 - val_loss: 1.0710 - val_accuracy: 0.7503\n",
      "Epoch 69/500\n",
      "96/96 [==============================] - 0s 4ms/step - loss: 1.2259 - accuracy: 0.5983 - val_loss: 1.0622 - val_accuracy: 0.7516\n",
      "Epoch 70/500\n",
      "96/96 [==============================] - 0s 4ms/step - loss: 1.2157 - accuracy: 0.6013 - val_loss: 1.0533 - val_accuracy: 0.7523\n",
      "Epoch 71/500\n",
      "96/96 [==============================] - 0s 4ms/step - loss: 1.2076 - accuracy: 0.6010 - val_loss: 1.0433 - val_accuracy: 0.7527\n",
      "Epoch 72/500\n",
      "96/96 [==============================] - 0s 4ms/step - loss: 1.2031 - accuracy: 0.6000 - val_loss: 1.0359 - val_accuracy: 0.7537\n",
      "Epoch 73/500\n",
      "96/96 [==============================] - 0s 4ms/step - loss: 1.1915 - accuracy: 0.6066 - val_loss: 1.0278 - val_accuracy: 0.7542\n",
      "Epoch 74/500\n",
      "96/96 [==============================] - 0s 4ms/step - loss: 1.1853 - accuracy: 0.6113 - val_loss: 1.0192 - val_accuracy: 0.7548\n",
      "Epoch 75/500\n",
      "96/96 [==============================] - 0s 4ms/step - loss: 1.1753 - accuracy: 0.6108 - val_loss: 1.0104 - val_accuracy: 0.7548\n",
      "Epoch 76/500\n",
      "96/96 [==============================] - 0s 4ms/step - loss: 1.1712 - accuracy: 0.6121 - val_loss: 1.0024 - val_accuracy: 0.7567\n",
      "Epoch 77/500\n",
      "96/96 [==============================] - 0s 4ms/step - loss: 1.1616 - accuracy: 0.6175 - val_loss: 0.9952 - val_accuracy: 0.7562\n",
      "Epoch 78/500\n",
      "96/96 [==============================] - 0s 4ms/step - loss: 1.1545 - accuracy: 0.6161 - val_loss: 0.9879 - val_accuracy: 0.7573\n",
      "Epoch 79/500\n",
      "96/96 [==============================] - 0s 4ms/step - loss: 1.1533 - accuracy: 0.6174 - val_loss: 0.9812 - val_accuracy: 0.7577\n",
      "Epoch 80/500\n",
      "96/96 [==============================] - 0s 4ms/step - loss: 1.1473 - accuracy: 0.6206 - val_loss: 0.9735 - val_accuracy: 0.7601\n",
      "Epoch 81/500\n",
      "96/96 [==============================] - 0s 4ms/step - loss: 1.1368 - accuracy: 0.6221 - val_loss: 0.9664 - val_accuracy: 0.7607\n",
      "Epoch 82/500\n",
      "96/96 [==============================] - 0s 4ms/step - loss: 1.1293 - accuracy: 0.6254 - val_loss: 0.9593 - val_accuracy: 0.7605\n",
      "Epoch 83/500\n",
      "96/96 [==============================] - 0s 4ms/step - loss: 1.1252 - accuracy: 0.6250 - val_loss: 0.9530 - val_accuracy: 0.7614\n",
      "Epoch 84/500\n",
      "96/96 [==============================] - 0s 4ms/step - loss: 1.1144 - accuracy: 0.6326 - val_loss: 0.9456 - val_accuracy: 0.7617\n",
      "Epoch 85/500\n",
      "96/96 [==============================] - 0s 4ms/step - loss: 1.1158 - accuracy: 0.6267 - val_loss: 0.9408 - val_accuracy: 0.7630\n",
      "Epoch 86/500\n",
      "96/96 [==============================] - 0s 4ms/step - loss: 1.1052 - accuracy: 0.6322 - val_loss: 0.9333 - val_accuracy: 0.7630\n",
      "Epoch 87/500\n",
      "96/96 [==============================] - 0s 4ms/step - loss: 1.1041 - accuracy: 0.6310 - val_loss: 0.9278 - val_accuracy: 0.7636\n",
      "Epoch 88/500\n",
      "96/96 [==============================] - 0s 4ms/step - loss: 1.0956 - accuracy: 0.6362 - val_loss: 0.9220 - val_accuracy: 0.7642\n",
      "Epoch 89/500\n",
      "96/96 [==============================] - 0s 4ms/step - loss: 1.0895 - accuracy: 0.6367 - val_loss: 0.9157 - val_accuracy: 0.7645\n",
      "Epoch 90/500\n",
      "96/96 [==============================] - 0s 4ms/step - loss: 1.0891 - accuracy: 0.6343 - val_loss: 0.9097 - val_accuracy: 0.7643\n",
      "Epoch 91/500\n",
      "96/96 [==============================] - 0s 4ms/step - loss: 1.0762 - accuracy: 0.6406 - val_loss: 0.9037 - val_accuracy: 0.7656\n",
      "Epoch 92/500\n",
      "96/96 [==============================] - 0s 4ms/step - loss: 1.0772 - accuracy: 0.6409 - val_loss: 0.8989 - val_accuracy: 0.7660\n",
      "Epoch 93/500\n",
      "96/96 [==============================] - 0s 4ms/step - loss: 1.0703 - accuracy: 0.6405 - val_loss: 0.8933 - val_accuracy: 0.7667\n",
      "Epoch 94/500\n",
      "96/96 [==============================] - 0s 4ms/step - loss: 1.0627 - accuracy: 0.6475 - val_loss: 0.8878 - val_accuracy: 0.7676\n",
      "Epoch 95/500\n",
      "96/96 [==============================] - 0s 4ms/step - loss: 1.0633 - accuracy: 0.6437 - val_loss: 0.8829 - val_accuracy: 0.7682\n",
      "Epoch 96/500\n",
      "96/96 [==============================] - 0s 4ms/step - loss: 1.0586 - accuracy: 0.6474 - val_loss: 0.8781 - val_accuracy: 0.7690\n",
      "Epoch 97/500\n",
      "96/96 [==============================] - 0s 4ms/step - loss: 1.0479 - accuracy: 0.6495 - val_loss: 0.8724 - val_accuracy: 0.7673\n",
      "Epoch 98/500\n",
      "96/96 [==============================] - 0s 5ms/step - loss: 1.0472 - accuracy: 0.6497 - val_loss: 0.8678 - val_accuracy: 0.7701\n",
      "Epoch 99/500\n",
      "96/96 [==============================] - 0s 4ms/step - loss: 1.0468 - accuracy: 0.6490 - val_loss: 0.8641 - val_accuracy: 0.7692\n",
      "Epoch 100/500\n",
      "96/96 [==============================] - 0s 4ms/step - loss: 1.0419 - accuracy: 0.6511 - val_loss: 0.8604 - val_accuracy: 0.7697\n",
      "Epoch 101/500\n",
      "96/96 [==============================] - 0s 4ms/step - loss: 1.0344 - accuracy: 0.6566 - val_loss: 0.8548 - val_accuracy: 0.7703\n",
      "Epoch 102/500\n",
      "96/96 [==============================] - 0s 4ms/step - loss: 1.0306 - accuracy: 0.6543 - val_loss: 0.8509 - val_accuracy: 0.7714\n",
      "Epoch 103/500\n",
      "96/96 [==============================] - 0s 4ms/step - loss: 1.0256 - accuracy: 0.6562 - val_loss: 0.8468 - val_accuracy: 0.7711\n",
      "Epoch 104/500\n",
      "96/96 [==============================] - 0s 4ms/step - loss: 1.0226 - accuracy: 0.6567 - val_loss: 0.8402 - val_accuracy: 0.7717\n",
      "Epoch 105/500\n",
      "96/96 [==============================] - 0s 4ms/step - loss: 1.0160 - accuracy: 0.6599 - val_loss: 0.8369 - val_accuracy: 0.7728\n",
      "Epoch 106/500\n",
      "96/96 [==============================] - 0s 4ms/step - loss: 1.0131 - accuracy: 0.6593 - val_loss: 0.8326 - val_accuracy: 0.7717\n",
      "Epoch 107/500\n",
      "96/96 [==============================] - 0s 4ms/step - loss: 1.0077 - accuracy: 0.6642 - val_loss: 0.8284 - val_accuracy: 0.7737\n",
      "Epoch 108/500\n",
      "96/96 [==============================] - 0s 4ms/step - loss: 1.0053 - accuracy: 0.6607 - val_loss: 0.8252 - val_accuracy: 0.7724\n",
      "Epoch 109/500\n",
      "96/96 [==============================] - 0s 4ms/step - loss: 1.0022 - accuracy: 0.6634 - val_loss: 0.8213 - val_accuracy: 0.7734\n",
      "Epoch 110/500\n",
      "96/96 [==============================] - 0s 5ms/step - loss: 0.9930 - accuracy: 0.6655 - val_loss: 0.8161 - val_accuracy: 0.7738\n",
      "Epoch 111/500\n",
      "96/96 [==============================] - 0s 4ms/step - loss: 0.9923 - accuracy: 0.6651 - val_loss: 0.8134 - val_accuracy: 0.7742\n",
      "Epoch 112/500\n",
      "96/96 [==============================] - 0s 4ms/step - loss: 0.9858 - accuracy: 0.6675 - val_loss: 0.8092 - val_accuracy: 0.7746\n",
      "Epoch 113/500\n",
      "96/96 [==============================] - 0s 4ms/step - loss: 0.9858 - accuracy: 0.6686 - val_loss: 0.8059 - val_accuracy: 0.7747\n",
      "Epoch 114/500\n",
      "96/96 [==============================] - 0s 4ms/step - loss: 0.9845 - accuracy: 0.6714 - val_loss: 0.8030 - val_accuracy: 0.7752\n",
      "Epoch 115/500\n",
      "96/96 [==============================] - 0s 4ms/step - loss: 0.9821 - accuracy: 0.6691 - val_loss: 0.8003 - val_accuracy: 0.7744\n",
      "Epoch 116/500\n",
      "96/96 [==============================] - 0s 4ms/step - loss: 0.9728 - accuracy: 0.6698 - val_loss: 0.7945 - val_accuracy: 0.7764\n",
      "Epoch 117/500\n",
      "96/96 [==============================] - 0s 4ms/step - loss: 0.9737 - accuracy: 0.6714 - val_loss: 0.7921 - val_accuracy: 0.7771\n",
      "Epoch 118/500\n",
      "96/96 [==============================] - 0s 4ms/step - loss: 0.9689 - accuracy: 0.6742 - val_loss: 0.7892 - val_accuracy: 0.7775\n",
      "Epoch 119/500\n",
      "96/96 [==============================] - 0s 4ms/step - loss: 0.9629 - accuracy: 0.6763 - val_loss: 0.7848 - val_accuracy: 0.7766\n",
      "Epoch 120/500\n",
      "96/96 [==============================] - 0s 4ms/step - loss: 0.9633 - accuracy: 0.6744 - val_loss: 0.7821 - val_accuracy: 0.7766\n",
      "Epoch 121/500\n",
      "96/96 [==============================] - 0s 4ms/step - loss: 0.9563 - accuracy: 0.6777 - val_loss: 0.7778 - val_accuracy: 0.7774\n",
      "Epoch 122/500\n",
      "96/96 [==============================] - 0s 4ms/step - loss: 0.9529 - accuracy: 0.6803 - val_loss: 0.7744 - val_accuracy: 0.7778\n",
      "Epoch 123/500\n",
      "96/96 [==============================] - 0s 4ms/step - loss: 0.9526 - accuracy: 0.6815 - val_loss: 0.7720 - val_accuracy: 0.7778\n",
      "Epoch 124/500\n",
      "96/96 [==============================] - 0s 4ms/step - loss: 0.9492 - accuracy: 0.6825 - val_loss: 0.7685 - val_accuracy: 0.7783\n",
      "Epoch 125/500\n",
      "96/96 [==============================] - 0s 4ms/step - loss: 0.9452 - accuracy: 0.6800 - val_loss: 0.7660 - val_accuracy: 0.7788\n",
      "Epoch 126/500\n",
      "96/96 [==============================] - 0s 4ms/step - loss: 0.9414 - accuracy: 0.6849 - val_loss: 0.7630 - val_accuracy: 0.7783\n",
      "Epoch 127/500\n",
      "96/96 [==============================] - 0s 4ms/step - loss: 0.9406 - accuracy: 0.6827 - val_loss: 0.7596 - val_accuracy: 0.7787\n",
      "Epoch 128/500\n",
      "96/96 [==============================] - 0s 4ms/step - loss: 0.9381 - accuracy: 0.6815 - val_loss: 0.7578 - val_accuracy: 0.7788\n",
      "Epoch 129/500\n",
      "96/96 [==============================] - 0s 4ms/step - loss: 0.9314 - accuracy: 0.6864 - val_loss: 0.7539 - val_accuracy: 0.7803\n",
      "Epoch 130/500\n",
      "96/96 [==============================] - 0s 4ms/step - loss: 0.9301 - accuracy: 0.6889 - val_loss: 0.7506 - val_accuracy: 0.7802\n",
      "Epoch 131/500\n",
      "96/96 [==============================] - 0s 4ms/step - loss: 0.9260 - accuracy: 0.6869 - val_loss: 0.7485 - val_accuracy: 0.7809\n",
      "Epoch 132/500\n",
      "96/96 [==============================] - 0s 4ms/step - loss: 0.9276 - accuracy: 0.6883 - val_loss: 0.7468 - val_accuracy: 0.7805\n",
      "Epoch 133/500\n",
      "96/96 [==============================] - 0s 4ms/step - loss: 0.9192 - accuracy: 0.6905 - val_loss: 0.7426 - val_accuracy: 0.7806\n",
      "Epoch 134/500\n",
      "96/96 [==============================] - 0s 4ms/step - loss: 0.9179 - accuracy: 0.6895 - val_loss: 0.7402 - val_accuracy: 0.7807\n",
      "Epoch 135/500\n",
      "96/96 [==============================] - 0s 4ms/step - loss: 0.9133 - accuracy: 0.6935 - val_loss: 0.7369 - val_accuracy: 0.7812\n",
      "Epoch 136/500\n",
      "96/96 [==============================] - 0s 4ms/step - loss: 0.9101 - accuracy: 0.6949 - val_loss: 0.7345 - val_accuracy: 0.7813\n",
      "Epoch 137/500\n",
      "96/96 [==============================] - 0s 5ms/step - loss: 0.9118 - accuracy: 0.6907 - val_loss: 0.7338 - val_accuracy: 0.7817\n",
      "Epoch 138/500\n",
      "96/96 [==============================] - 0s 4ms/step - loss: 0.9064 - accuracy: 0.6958 - val_loss: 0.7312 - val_accuracy: 0.7812\n",
      "Epoch 139/500\n",
      "96/96 [==============================] - 0s 4ms/step - loss: 0.9074 - accuracy: 0.6941 - val_loss: 0.7288 - val_accuracy: 0.7827\n",
      "Epoch 140/500\n",
      "96/96 [==============================] - 0s 4ms/step - loss: 0.9027 - accuracy: 0.6928 - val_loss: 0.7257 - val_accuracy: 0.7820\n",
      "Epoch 141/500\n",
      "96/96 [==============================] - 0s 4ms/step - loss: 0.8969 - accuracy: 0.6982 - val_loss: 0.7226 - val_accuracy: 0.7822\n",
      "Epoch 142/500\n",
      "96/96 [==============================] - 0s 4ms/step - loss: 0.8986 - accuracy: 0.6980 - val_loss: 0.7217 - val_accuracy: 0.7825\n",
      "Epoch 143/500\n",
      "96/96 [==============================] - 0s 4ms/step - loss: 0.8942 - accuracy: 0.6974 - val_loss: 0.7182 - val_accuracy: 0.7829\n",
      "Epoch 144/500\n",
      "96/96 [==============================] - 0s 4ms/step - loss: 0.8890 - accuracy: 0.6982 - val_loss: 0.7165 - val_accuracy: 0.7832\n",
      "Epoch 145/500\n",
      "96/96 [==============================] - 0s 4ms/step - loss: 0.8889 - accuracy: 0.7007 - val_loss: 0.7136 - val_accuracy: 0.7843\n",
      "Epoch 146/500\n",
      "96/96 [==============================] - 0s 4ms/step - loss: 0.8885 - accuracy: 0.7009 - val_loss: 0.7112 - val_accuracy: 0.7843\n",
      "Epoch 147/500\n",
      "96/96 [==============================] - 0s 4ms/step - loss: 0.8849 - accuracy: 0.7002 - val_loss: 0.7103 - val_accuracy: 0.7849\n",
      "Epoch 148/500\n",
      "96/96 [==============================] - 0s 4ms/step - loss: 0.8813 - accuracy: 0.7044 - val_loss: 0.7068 - val_accuracy: 0.7839\n",
      "Epoch 149/500\n",
      "96/96 [==============================] - 0s 4ms/step - loss: 0.8816 - accuracy: 0.7008 - val_loss: 0.7065 - val_accuracy: 0.7861\n",
      "Epoch 150/500\n",
      "96/96 [==============================] - 0s 4ms/step - loss: 0.8804 - accuracy: 0.7000 - val_loss: 0.7042 - val_accuracy: 0.7868\n",
      "Epoch 151/500\n",
      "96/96 [==============================] - 0s 4ms/step - loss: 0.8783 - accuracy: 0.7026 - val_loss: 0.7022 - val_accuracy: 0.7867\n",
      "Epoch 152/500\n",
      "96/96 [==============================] - 0s 4ms/step - loss: 0.8737 - accuracy: 0.7032 - val_loss: 0.6995 - val_accuracy: 0.7857\n",
      "Epoch 153/500\n",
      "96/96 [==============================] - 0s 4ms/step - loss: 0.8738 - accuracy: 0.7055 - val_loss: 0.6972 - val_accuracy: 0.7870\n",
      "Epoch 154/500\n",
      "96/96 [==============================] - 0s 4ms/step - loss: 0.8693 - accuracy: 0.7036 - val_loss: 0.6954 - val_accuracy: 0.7868\n",
      "Epoch 155/500\n",
      "96/96 [==============================] - 0s 4ms/step - loss: 0.8688 - accuracy: 0.7065 - val_loss: 0.6932 - val_accuracy: 0.7868\n",
      "Epoch 156/500\n",
      "96/96 [==============================] - 0s 4ms/step - loss: 0.8652 - accuracy: 0.7070 - val_loss: 0.6920 - val_accuracy: 0.7881\n",
      "Epoch 157/500\n",
      "96/96 [==============================] - 0s 4ms/step - loss: 0.8664 - accuracy: 0.7068 - val_loss: 0.6910 - val_accuracy: 0.7883\n",
      "Epoch 158/500\n",
      "96/96 [==============================] - 0s 4ms/step - loss: 0.8641 - accuracy: 0.7057 - val_loss: 0.6883 - val_accuracy: 0.7876\n",
      "Epoch 159/500\n",
      "96/96 [==============================] - 0s 4ms/step - loss: 0.8570 - accuracy: 0.7103 - val_loss: 0.6858 - val_accuracy: 0.7885\n",
      "Epoch 160/500\n",
      "96/96 [==============================] - 0s 4ms/step - loss: 0.8564 - accuracy: 0.7103 - val_loss: 0.6839 - val_accuracy: 0.7872\n",
      "Epoch 161/500\n",
      "96/96 [==============================] - 0s 4ms/step - loss: 0.8560 - accuracy: 0.7110 - val_loss: 0.6825 - val_accuracy: 0.7885\n",
      "Epoch 162/500\n",
      "96/96 [==============================] - 0s 4ms/step - loss: 0.8535 - accuracy: 0.7094 - val_loss: 0.6811 - val_accuracy: 0.7888\n",
      "Epoch 163/500\n",
      "96/96 [==============================] - 0s 4ms/step - loss: 0.8512 - accuracy: 0.7117 - val_loss: 0.6781 - val_accuracy: 0.7877\n",
      "Epoch 164/500\n",
      "96/96 [==============================] - 0s 4ms/step - loss: 0.8490 - accuracy: 0.7138 - val_loss: 0.6768 - val_accuracy: 0.7890\n",
      "Epoch 165/500\n",
      "96/96 [==============================] - 0s 4ms/step - loss: 0.8465 - accuracy: 0.7115 - val_loss: 0.6751 - val_accuracy: 0.7897\n",
      "Epoch 166/500\n",
      "96/96 [==============================] - 0s 4ms/step - loss: 0.8462 - accuracy: 0.7126 - val_loss: 0.6746 - val_accuracy: 0.7903\n",
      "Epoch 167/500\n",
      "96/96 [==============================] - 0s 4ms/step - loss: 0.8449 - accuracy: 0.7132 - val_loss: 0.6713 - val_accuracy: 0.7905\n",
      "Epoch 168/500\n",
      "96/96 [==============================] - 0s 4ms/step - loss: 0.8436 - accuracy: 0.7154 - val_loss: 0.6701 - val_accuracy: 0.7899\n",
      "Epoch 169/500\n",
      "96/96 [==============================] - 0s 4ms/step - loss: 0.8408 - accuracy: 0.7154 - val_loss: 0.6687 - val_accuracy: 0.7911\n",
      "Epoch 170/500\n",
      "96/96 [==============================] - 0s 4ms/step - loss: 0.8357 - accuracy: 0.7163 - val_loss: 0.6670 - val_accuracy: 0.7922\n",
      "Epoch 171/500\n",
      "96/96 [==============================] - 0s 4ms/step - loss: 0.8369 - accuracy: 0.7178 - val_loss: 0.6659 - val_accuracy: 0.7924\n",
      "Epoch 172/500\n",
      "96/96 [==============================] - 0s 4ms/step - loss: 0.8363 - accuracy: 0.7174 - val_loss: 0.6645 - val_accuracy: 0.7916\n",
      "Epoch 173/500\n",
      "96/96 [==============================] - 0s 4ms/step - loss: 0.8366 - accuracy: 0.7168 - val_loss: 0.6633 - val_accuracy: 0.7918\n",
      "Epoch 174/500\n",
      "96/96 [==============================] - 0s 4ms/step - loss: 0.8320 - accuracy: 0.7175 - val_loss: 0.6610 - val_accuracy: 0.7930\n",
      "Epoch 175/500\n",
      "96/96 [==============================] - 0s 4ms/step - loss: 0.8295 - accuracy: 0.7189 - val_loss: 0.6586 - val_accuracy: 0.7933\n",
      "Epoch 176/500\n",
      "96/96 [==============================] - 0s 4ms/step - loss: 0.8286 - accuracy: 0.7192 - val_loss: 0.6570 - val_accuracy: 0.7930\n",
      "Epoch 177/500\n",
      "96/96 [==============================] - 0s 4ms/step - loss: 0.8267 - accuracy: 0.7208 - val_loss: 0.6560 - val_accuracy: 0.7926\n",
      "Epoch 178/500\n",
      "96/96 [==============================] - 0s 4ms/step - loss: 0.8264 - accuracy: 0.7204 - val_loss: 0.6549 - val_accuracy: 0.7939\n",
      "Epoch 179/500\n",
      "96/96 [==============================] - 0s 4ms/step - loss: 0.8249 - accuracy: 0.7210 - val_loss: 0.6533 - val_accuracy: 0.7946\n",
      "Epoch 180/500\n",
      "96/96 [==============================] - 0s 4ms/step - loss: 0.8215 - accuracy: 0.7217 - val_loss: 0.6529 - val_accuracy: 0.7943\n",
      "Epoch 181/500\n",
      "96/96 [==============================] - 0s 4ms/step - loss: 0.8207 - accuracy: 0.7230 - val_loss: 0.6509 - val_accuracy: 0.7947\n",
      "Epoch 182/500\n",
      "96/96 [==============================] - 0s 4ms/step - loss: 0.8199 - accuracy: 0.7222 - val_loss: 0.6495 - val_accuracy: 0.7949\n",
      "Epoch 183/500\n",
      "96/96 [==============================] - 0s 4ms/step - loss: 0.8111 - accuracy: 0.7236 - val_loss: 0.6472 - val_accuracy: 0.7955\n",
      "Epoch 184/500\n",
      "96/96 [==============================] - 1s 6ms/step - loss: 0.8166 - accuracy: 0.7234 - val_loss: 0.6469 - val_accuracy: 0.7959\n",
      "Epoch 185/500\n",
      "96/96 [==============================] - 0s 5ms/step - loss: 0.8096 - accuracy: 0.7247 - val_loss: 0.6448 - val_accuracy: 0.7965\n",
      "Epoch 186/500\n",
      "96/96 [==============================] - 0s 4ms/step - loss: 0.8116 - accuracy: 0.7231 - val_loss: 0.6433 - val_accuracy: 0.7960\n",
      "Epoch 187/500\n",
      "96/96 [==============================] - 0s 4ms/step - loss: 0.8106 - accuracy: 0.7232 - val_loss: 0.6435 - val_accuracy: 0.7961\n",
      "Epoch 188/500\n",
      "96/96 [==============================] - 0s 4ms/step - loss: 0.8113 - accuracy: 0.7251 - val_loss: 0.6421 - val_accuracy: 0.7957\n",
      "Epoch 189/500\n",
      "96/96 [==============================] - 0s 4ms/step - loss: 0.8090 - accuracy: 0.7274 - val_loss: 0.6402 - val_accuracy: 0.7973\n",
      "Epoch 190/500\n",
      "96/96 [==============================] - 0s 4ms/step - loss: 0.8011 - accuracy: 0.7265 - val_loss: 0.6380 - val_accuracy: 0.7966\n",
      "Epoch 191/500\n",
      "96/96 [==============================] - 0s 4ms/step - loss: 0.8038 - accuracy: 0.7277 - val_loss: 0.6375 - val_accuracy: 0.7966\n",
      "Epoch 192/500\n",
      "96/96 [==============================] - 0s 4ms/step - loss: 0.8010 - accuracy: 0.7289 - val_loss: 0.6359 - val_accuracy: 0.7967\n",
      "Epoch 193/500\n",
      "96/96 [==============================] - 0s 4ms/step - loss: 0.8031 - accuracy: 0.7291 - val_loss: 0.6351 - val_accuracy: 0.7968\n",
      "Epoch 194/500\n",
      "96/96 [==============================] - 0s 4ms/step - loss: 0.8036 - accuracy: 0.7280 - val_loss: 0.6336 - val_accuracy: 0.7976\n",
      "Epoch 195/500\n",
      "96/96 [==============================] - 0s 4ms/step - loss: 0.7993 - accuracy: 0.7298 - val_loss: 0.6327 - val_accuracy: 0.7982\n",
      "Epoch 196/500\n",
      "96/96 [==============================] - 0s 4ms/step - loss: 0.7979 - accuracy: 0.7272 - val_loss: 0.6319 - val_accuracy: 0.7974\n",
      "Epoch 197/500\n",
      "96/96 [==============================] - 0s 4ms/step - loss: 0.7955 - accuracy: 0.7320 - val_loss: 0.6299 - val_accuracy: 0.7980\n",
      "Epoch 198/500\n",
      "96/96 [==============================] - 0s 4ms/step - loss: 0.7944 - accuracy: 0.7276 - val_loss: 0.6292 - val_accuracy: 0.7981\n",
      "Epoch 199/500\n",
      "96/96 [==============================] - 0s 4ms/step - loss: 0.7963 - accuracy: 0.7312 - val_loss: 0.6277 - val_accuracy: 0.7983\n",
      "Epoch 200/500\n",
      "96/96 [==============================] - 0s 4ms/step - loss: 0.7897 - accuracy: 0.7356 - val_loss: 0.6261 - val_accuracy: 0.7978\n",
      "Epoch 201/500\n",
      "96/96 [==============================] - 0s 4ms/step - loss: 0.7917 - accuracy: 0.7312 - val_loss: 0.6251 - val_accuracy: 0.7984\n",
      "Epoch 202/500\n",
      "96/96 [==============================] - 0s 4ms/step - loss: 0.7855 - accuracy: 0.7318 - val_loss: 0.6236 - val_accuracy: 0.7980\n",
      "Epoch 203/500\n",
      "96/96 [==============================] - 0s 4ms/step - loss: 0.7870 - accuracy: 0.7324 - val_loss: 0.6235 - val_accuracy: 0.7991\n",
      "Epoch 204/500\n",
      "96/96 [==============================] - 0s 4ms/step - loss: 0.7845 - accuracy: 0.7344 - val_loss: 0.6213 - val_accuracy: 0.7993\n",
      "Epoch 205/500\n",
      "96/96 [==============================] - 0s 4ms/step - loss: 0.7861 - accuracy: 0.7307 - val_loss: 0.6210 - val_accuracy: 0.8004\n",
      "Epoch 206/500\n",
      "96/96 [==============================] - 0s 4ms/step - loss: 0.7834 - accuracy: 0.7343 - val_loss: 0.6204 - val_accuracy: 0.7993\n",
      "Epoch 207/500\n",
      "96/96 [==============================] - 0s 4ms/step - loss: 0.7834 - accuracy: 0.7325 - val_loss: 0.6186 - val_accuracy: 0.8009\n",
      "Epoch 208/500\n",
      "96/96 [==============================] - 0s 4ms/step - loss: 0.7808 - accuracy: 0.7344 - val_loss: 0.6182 - val_accuracy: 0.8000\n",
      "Epoch 209/500\n",
      "96/96 [==============================] - 0s 4ms/step - loss: 0.7798 - accuracy: 0.7346 - val_loss: 0.6165 - val_accuracy: 0.8003\n",
      "Epoch 210/500\n",
      "96/96 [==============================] - 0s 4ms/step - loss: 0.7763 - accuracy: 0.7381 - val_loss: 0.6156 - val_accuracy: 0.8010\n",
      "Epoch 211/500\n",
      "96/96 [==============================] - 0s 4ms/step - loss: 0.7759 - accuracy: 0.7379 - val_loss: 0.6148 - val_accuracy: 0.8011\n",
      "Epoch 212/500\n",
      "96/96 [==============================] - 0s 4ms/step - loss: 0.7747 - accuracy: 0.7368 - val_loss: 0.6135 - val_accuracy: 0.8015\n",
      "Epoch 213/500\n",
      "96/96 [==============================] - 0s 4ms/step - loss: 0.7751 - accuracy: 0.7370 - val_loss: 0.6129 - val_accuracy: 0.8012\n",
      "Epoch 214/500\n",
      "96/96 [==============================] - 0s 4ms/step - loss: 0.7740 - accuracy: 0.7363 - val_loss: 0.6122 - val_accuracy: 0.8015\n",
      "Epoch 215/500\n",
      "96/96 [==============================] - 0s 4ms/step - loss: 0.7754 - accuracy: 0.7377 - val_loss: 0.6114 - val_accuracy: 0.8021\n",
      "Epoch 216/500\n",
      "96/96 [==============================] - 0s 4ms/step - loss: 0.7701 - accuracy: 0.7377 - val_loss: 0.6105 - val_accuracy: 0.8012\n",
      "Epoch 217/500\n",
      "96/96 [==============================] - 0s 4ms/step - loss: 0.7728 - accuracy: 0.7370 - val_loss: 0.6092 - val_accuracy: 0.8016\n",
      "Epoch 218/500\n",
      "96/96 [==============================] - 0s 4ms/step - loss: 0.7688 - accuracy: 0.7377 - val_loss: 0.6081 - val_accuracy: 0.8023\n",
      "Epoch 219/500\n",
      "96/96 [==============================] - 0s 4ms/step - loss: 0.7672 - accuracy: 0.7395 - val_loss: 0.6075 - val_accuracy: 0.8031\n",
      "Epoch 220/500\n",
      "96/96 [==============================] - 0s 4ms/step - loss: 0.7716 - accuracy: 0.7388 - val_loss: 0.6072 - val_accuracy: 0.8028\n",
      "Epoch 221/500\n",
      "96/96 [==============================] - 0s 4ms/step - loss: 0.7688 - accuracy: 0.7380 - val_loss: 0.6059 - val_accuracy: 0.8025\n",
      "Epoch 222/500\n",
      "96/96 [==============================] - 0s 4ms/step - loss: 0.7623 - accuracy: 0.7413 - val_loss: 0.6044 - val_accuracy: 0.8034\n",
      "Epoch 223/500\n",
      "96/96 [==============================] - 0s 4ms/step - loss: 0.7619 - accuracy: 0.7410 - val_loss: 0.6035 - val_accuracy: 0.8035\n",
      "Epoch 224/500\n",
      "96/96 [==============================] - 0s 4ms/step - loss: 0.7671 - accuracy: 0.7397 - val_loss: 0.6029 - val_accuracy: 0.8035\n",
      "Epoch 225/500\n",
      "96/96 [==============================] - 0s 4ms/step - loss: 0.7592 - accuracy: 0.7417 - val_loss: 0.6007 - val_accuracy: 0.8030\n",
      "Epoch 226/500\n",
      "96/96 [==============================] - 0s 4ms/step - loss: 0.7629 - accuracy: 0.7409 - val_loss: 0.6001 - val_accuracy: 0.8039\n",
      "Epoch 227/500\n",
      "96/96 [==============================] - 0s 4ms/step - loss: 0.7581 - accuracy: 0.7406 - val_loss: 0.5992 - val_accuracy: 0.8030\n",
      "Epoch 228/500\n",
      "96/96 [==============================] - 0s 4ms/step - loss: 0.7571 - accuracy: 0.7436 - val_loss: 0.5984 - val_accuracy: 0.8038\n",
      "Epoch 229/500\n",
      "96/96 [==============================] - 0s 4ms/step - loss: 0.7604 - accuracy: 0.7423 - val_loss: 0.5990 - val_accuracy: 0.8037\n",
      "Epoch 230/500\n",
      "96/96 [==============================] - 0s 4ms/step - loss: 0.7566 - accuracy: 0.7431 - val_loss: 0.5979 - val_accuracy: 0.8047\n",
      "Epoch 231/500\n",
      "96/96 [==============================] - 0s 5ms/step - loss: 0.7562 - accuracy: 0.7417 - val_loss: 0.5964 - val_accuracy: 0.8047\n",
      "Epoch 232/500\n",
      "96/96 [==============================] - 0s 4ms/step - loss: 0.7536 - accuracy: 0.7427 - val_loss: 0.5962 - val_accuracy: 0.8048\n",
      "Epoch 233/500\n",
      "96/96 [==============================] - 0s 4ms/step - loss: 0.7541 - accuracy: 0.7436 - val_loss: 0.5955 - val_accuracy: 0.8045\n",
      "Epoch 234/500\n",
      "96/96 [==============================] - 0s 4ms/step - loss: 0.7537 - accuracy: 0.7439 - val_loss: 0.5939 - val_accuracy: 0.8039\n",
      "Epoch 235/500\n",
      "96/96 [==============================] - 0s 4ms/step - loss: 0.7496 - accuracy: 0.7449 - val_loss: 0.5922 - val_accuracy: 0.8046\n",
      "Epoch 236/500\n",
      "96/96 [==============================] - 0s 4ms/step - loss: 0.7488 - accuracy: 0.7459 - val_loss: 0.5921 - val_accuracy: 0.8043\n",
      "Epoch 237/500\n",
      "96/96 [==============================] - 0s 4ms/step - loss: 0.7520 - accuracy: 0.7437 - val_loss: 0.5916 - val_accuracy: 0.8041\n",
      "Epoch 238/500\n",
      "96/96 [==============================] - 0s 4ms/step - loss: 0.7501 - accuracy: 0.7445 - val_loss: 0.5915 - val_accuracy: 0.8051\n",
      "Epoch 239/500\n",
      "96/96 [==============================] - 0s 4ms/step - loss: 0.7482 - accuracy: 0.7463 - val_loss: 0.5905 - val_accuracy: 0.8048\n",
      "Epoch 240/500\n",
      "96/96 [==============================] - 0s 4ms/step - loss: 0.7475 - accuracy: 0.7455 - val_loss: 0.5899 - val_accuracy: 0.8048\n",
      "Epoch 241/500\n",
      "96/96 [==============================] - 0s 4ms/step - loss: 0.7446 - accuracy: 0.7470 - val_loss: 0.5882 - val_accuracy: 0.8053\n",
      "Epoch 242/500\n",
      "96/96 [==============================] - 0s 4ms/step - loss: 0.7446 - accuracy: 0.7479 - val_loss: 0.5870 - val_accuracy: 0.8057\n",
      "Epoch 243/500\n",
      "96/96 [==============================] - 0s 4ms/step - loss: 0.7429 - accuracy: 0.7482 - val_loss: 0.5871 - val_accuracy: 0.8061\n",
      "Epoch 244/500\n",
      "96/96 [==============================] - 0s 4ms/step - loss: 0.7444 - accuracy: 0.7468 - val_loss: 0.5862 - val_accuracy: 0.8057\n",
      "Epoch 245/500\n",
      "96/96 [==============================] - 0s 4ms/step - loss: 0.7415 - accuracy: 0.7498 - val_loss: 0.5853 - val_accuracy: 0.8056\n",
      "Epoch 246/500\n",
      "96/96 [==============================] - 0s 4ms/step - loss: 0.7375 - accuracy: 0.7501 - val_loss: 0.5836 - val_accuracy: 0.8053\n",
      "Epoch 247/500\n",
      "96/96 [==============================] - 0s 4ms/step - loss: 0.7381 - accuracy: 0.7497 - val_loss: 0.5841 - val_accuracy: 0.8062\n",
      "Epoch 248/500\n",
      "96/96 [==============================] - 0s 4ms/step - loss: 0.7375 - accuracy: 0.7498 - val_loss: 0.5828 - val_accuracy: 0.8060\n",
      "Epoch 249/500\n",
      "96/96 [==============================] - 0s 4ms/step - loss: 0.7372 - accuracy: 0.7509 - val_loss: 0.5832 - val_accuracy: 0.8062\n",
      "Epoch 250/500\n",
      "96/96 [==============================] - 0s 4ms/step - loss: 0.7351 - accuracy: 0.7500 - val_loss: 0.5811 - val_accuracy: 0.8060\n",
      "Epoch 251/500\n",
      "96/96 [==============================] - 0s 4ms/step - loss: 0.7356 - accuracy: 0.7494 - val_loss: 0.5813 - val_accuracy: 0.8064\n",
      "Epoch 252/500\n",
      "96/96 [==============================] - 0s 4ms/step - loss: 0.7320 - accuracy: 0.7500 - val_loss: 0.5799 - val_accuracy: 0.8073\n",
      "Epoch 253/500\n",
      "96/96 [==============================] - 0s 4ms/step - loss: 0.7365 - accuracy: 0.7489 - val_loss: 0.5795 - val_accuracy: 0.8066\n",
      "Epoch 254/500\n",
      "96/96 [==============================] - 0s 4ms/step - loss: 0.7312 - accuracy: 0.7526 - val_loss: 0.5789 - val_accuracy: 0.8066\n",
      "Epoch 255/500\n",
      "96/96 [==============================] - 0s 4ms/step - loss: 0.7326 - accuracy: 0.7503 - val_loss: 0.5782 - val_accuracy: 0.8070\n",
      "Epoch 256/500\n",
      "96/96 [==============================] - 0s 5ms/step - loss: 0.7335 - accuracy: 0.7534 - val_loss: 0.5785 - val_accuracy: 0.8070\n",
      "Epoch 257/500\n",
      "96/96 [==============================] - 0s 4ms/step - loss: 0.7322 - accuracy: 0.7516 - val_loss: 0.5775 - val_accuracy: 0.8076\n",
      "Epoch 258/500\n",
      "96/96 [==============================] - 0s 5ms/step - loss: 0.7278 - accuracy: 0.7509 - val_loss: 0.5768 - val_accuracy: 0.8073\n",
      "Epoch 259/500\n",
      "96/96 [==============================] - 0s 4ms/step - loss: 0.7283 - accuracy: 0.7534 - val_loss: 0.5761 - val_accuracy: 0.8079\n",
      "Epoch 260/500\n",
      "96/96 [==============================] - 0s 4ms/step - loss: 0.7285 - accuracy: 0.7511 - val_loss: 0.5761 - val_accuracy: 0.8071\n",
      "Epoch 261/500\n",
      "96/96 [==============================] - 0s 5ms/step - loss: 0.7312 - accuracy: 0.7521 - val_loss: 0.5745 - val_accuracy: 0.8083\n",
      "Epoch 262/500\n",
      "96/96 [==============================] - 0s 4ms/step - loss: 0.7268 - accuracy: 0.7510 - val_loss: 0.5741 - val_accuracy: 0.8086\n",
      "Epoch 263/500\n",
      "96/96 [==============================] - 0s 5ms/step - loss: 0.7243 - accuracy: 0.7533 - val_loss: 0.5725 - val_accuracy: 0.8083\n",
      "Epoch 264/500\n",
      "96/96 [==============================] - 0s 4ms/step - loss: 0.7259 - accuracy: 0.7523 - val_loss: 0.5728 - val_accuracy: 0.8077\n",
      "Epoch 265/500\n",
      "96/96 [==============================] - 0s 4ms/step - loss: 0.7269 - accuracy: 0.7525 - val_loss: 0.5713 - val_accuracy: 0.8084\n",
      "Epoch 266/500\n",
      "96/96 [==============================] - 0s 4ms/step - loss: 0.7228 - accuracy: 0.7538 - val_loss: 0.5712 - val_accuracy: 0.8087\n",
      "Epoch 267/500\n",
      "96/96 [==============================] - 0s 4ms/step - loss: 0.7243 - accuracy: 0.7547 - val_loss: 0.5705 - val_accuracy: 0.8087\n",
      "Epoch 268/500\n",
      "96/96 [==============================] - 0s 4ms/step - loss: 0.7220 - accuracy: 0.7542 - val_loss: 0.5701 - val_accuracy: 0.8087\n",
      "Epoch 269/500\n",
      "96/96 [==============================] - 0s 4ms/step - loss: 0.7265 - accuracy: 0.7521 - val_loss: 0.5699 - val_accuracy: 0.8090\n",
      "Epoch 270/500\n",
      "96/96 [==============================] - 0s 4ms/step - loss: 0.7198 - accuracy: 0.7547 - val_loss: 0.5688 - val_accuracy: 0.8095\n",
      "Epoch 271/500\n",
      "96/96 [==============================] - 0s 4ms/step - loss: 0.7214 - accuracy: 0.7536 - val_loss: 0.5688 - val_accuracy: 0.8095\n",
      "Epoch 272/500\n",
      "96/96 [==============================] - 0s 4ms/step - loss: 0.7203 - accuracy: 0.7565 - val_loss: 0.5670 - val_accuracy: 0.8096\n",
      "Epoch 273/500\n",
      "96/96 [==============================] - 0s 4ms/step - loss: 0.7210 - accuracy: 0.7548 - val_loss: 0.5677 - val_accuracy: 0.8098\n",
      "Epoch 274/500\n",
      "96/96 [==============================] - 0s 4ms/step - loss: 0.7189 - accuracy: 0.7560 - val_loss: 0.5671 - val_accuracy: 0.8103\n",
      "Epoch 275/500\n",
      "96/96 [==============================] - 0s 5ms/step - loss: 0.7201 - accuracy: 0.7570 - val_loss: 0.5655 - val_accuracy: 0.8093\n",
      "Epoch 276/500\n",
      "96/96 [==============================] - 0s 4ms/step - loss: 0.7153 - accuracy: 0.7576 - val_loss: 0.5655 - val_accuracy: 0.8100\n",
      "Epoch 277/500\n",
      "96/96 [==============================] - 0s 4ms/step - loss: 0.7154 - accuracy: 0.7566 - val_loss: 0.5661 - val_accuracy: 0.8102\n",
      "Epoch 278/500\n",
      "96/96 [==============================] - 0s 5ms/step - loss: 0.7149 - accuracy: 0.7552 - val_loss: 0.5646 - val_accuracy: 0.8101\n",
      "Epoch 279/500\n",
      "96/96 [==============================] - 0s 4ms/step - loss: 0.7127 - accuracy: 0.7588 - val_loss: 0.5637 - val_accuracy: 0.8108\n",
      "Epoch 280/500\n",
      "96/96 [==============================] - 0s 4ms/step - loss: 0.7150 - accuracy: 0.7590 - val_loss: 0.5633 - val_accuracy: 0.8112\n",
      "Epoch 281/500\n",
      "96/96 [==============================] - 0s 4ms/step - loss: 0.7165 - accuracy: 0.7584 - val_loss: 0.5631 - val_accuracy: 0.8111\n",
      "Epoch 282/500\n",
      "96/96 [==============================] - 0s 4ms/step - loss: 0.7110 - accuracy: 0.7591 - val_loss: 0.5620 - val_accuracy: 0.8116\n",
      "Epoch 283/500\n",
      "96/96 [==============================] - 0s 4ms/step - loss: 0.7109 - accuracy: 0.7586 - val_loss: 0.5619 - val_accuracy: 0.8112\n",
      "Epoch 284/500\n",
      "96/96 [==============================] - 0s 4ms/step - loss: 0.7053 - accuracy: 0.7600 - val_loss: 0.5608 - val_accuracy: 0.8113\n",
      "Epoch 285/500\n",
      "96/96 [==============================] - 0s 5ms/step - loss: 0.7073 - accuracy: 0.7586 - val_loss: 0.5599 - val_accuracy: 0.8120\n",
      "Epoch 286/500\n",
      "96/96 [==============================] - 0s 4ms/step - loss: 0.7144 - accuracy: 0.7565 - val_loss: 0.5605 - val_accuracy: 0.8115\n",
      "Epoch 287/500\n",
      "96/96 [==============================] - 0s 4ms/step - loss: 0.7076 - accuracy: 0.7595 - val_loss: 0.5602 - val_accuracy: 0.8121\n",
      "Epoch 288/500\n",
      "96/96 [==============================] - 0s 4ms/step - loss: 0.7089 - accuracy: 0.7582 - val_loss: 0.5595 - val_accuracy: 0.8116\n",
      "Epoch 289/500\n",
      "96/96 [==============================] - 0s 4ms/step - loss: 0.7045 - accuracy: 0.7605 - val_loss: 0.5583 - val_accuracy: 0.8124\n",
      "Epoch 290/500\n",
      "96/96 [==============================] - 0s 5ms/step - loss: 0.7080 - accuracy: 0.7582 - val_loss: 0.5584 - val_accuracy: 0.8116\n",
      "Epoch 291/500\n",
      "96/96 [==============================] - 0s 4ms/step - loss: 0.7076 - accuracy: 0.7598 - val_loss: 0.5571 - val_accuracy: 0.8122\n",
      "Epoch 292/500\n",
      "96/96 [==============================] - 0s 4ms/step - loss: 0.7074 - accuracy: 0.7578 - val_loss: 0.5570 - val_accuracy: 0.8123\n",
      "Epoch 293/500\n",
      "96/96 [==============================] - 0s 4ms/step - loss: 0.7035 - accuracy: 0.7600 - val_loss: 0.5562 - val_accuracy: 0.8123\n",
      "Epoch 294/500\n",
      "96/96 [==============================] - 0s 4ms/step - loss: 0.7030 - accuracy: 0.7611 - val_loss: 0.5560 - val_accuracy: 0.8130\n",
      "Epoch 295/500\n",
      "96/96 [==============================] - 0s 5ms/step - loss: 0.7045 - accuracy: 0.7608 - val_loss: 0.5549 - val_accuracy: 0.8137\n",
      "Epoch 296/500\n",
      "96/96 [==============================] - 0s 4ms/step - loss: 0.7024 - accuracy: 0.7622 - val_loss: 0.5555 - val_accuracy: 0.8126\n",
      "Epoch 297/500\n",
      "96/96 [==============================] - 0s 4ms/step - loss: 0.7039 - accuracy: 0.7602 - val_loss: 0.5548 - val_accuracy: 0.8131\n",
      "Epoch 298/500\n",
      "96/96 [==============================] - 0s 5ms/step - loss: 0.7024 - accuracy: 0.7611 - val_loss: 0.5543 - val_accuracy: 0.8138\n",
      "Epoch 299/500\n",
      "96/96 [==============================] - 0s 4ms/step - loss: 0.7044 - accuracy: 0.7615 - val_loss: 0.5533 - val_accuracy: 0.8136\n",
      "Epoch 300/500\n",
      "96/96 [==============================] - 0s 4ms/step - loss: 0.6997 - accuracy: 0.7623 - val_loss: 0.5531 - val_accuracy: 0.8137\n",
      "Epoch 301/500\n",
      "96/96 [==============================] - 0s 4ms/step - loss: 0.7005 - accuracy: 0.7613 - val_loss: 0.5523 - val_accuracy: 0.8137\n",
      "Epoch 302/500\n",
      "96/96 [==============================] - 0s 5ms/step - loss: 0.6991 - accuracy: 0.7635 - val_loss: 0.5523 - val_accuracy: 0.8128\n",
      "Epoch 303/500\n",
      "96/96 [==============================] - 0s 4ms/step - loss: 0.7004 - accuracy: 0.7636 - val_loss: 0.5517 - val_accuracy: 0.8138\n",
      "Epoch 304/500\n",
      "96/96 [==============================] - 0s 5ms/step - loss: 0.6981 - accuracy: 0.7619 - val_loss: 0.5513 - val_accuracy: 0.8135\n",
      "Epoch 305/500\n",
      "96/96 [==============================] - 0s 4ms/step - loss: 0.6982 - accuracy: 0.7630 - val_loss: 0.5508 - val_accuracy: 0.8141\n",
      "Epoch 306/500\n",
      "96/96 [==============================] - 0s 4ms/step - loss: 0.6965 - accuracy: 0.7630 - val_loss: 0.5505 - val_accuracy: 0.8143\n",
      "Epoch 307/500\n",
      "96/96 [==============================] - 0s 4ms/step - loss: 0.6950 - accuracy: 0.7641 - val_loss: 0.5507 - val_accuracy: 0.8136\n",
      "Epoch 308/500\n",
      "96/96 [==============================] - 0s 5ms/step - loss: 0.6951 - accuracy: 0.7646 - val_loss: 0.5502 - val_accuracy: 0.8149\n",
      "Epoch 309/500\n",
      "96/96 [==============================] - 0s 4ms/step - loss: 0.6939 - accuracy: 0.7641 - val_loss: 0.5485 - val_accuracy: 0.8138\n",
      "Epoch 310/500\n",
      "96/96 [==============================] - 0s 4ms/step - loss: 0.6956 - accuracy: 0.7637 - val_loss: 0.5494 - val_accuracy: 0.8145\n",
      "Epoch 311/500\n",
      "96/96 [==============================] - 0s 4ms/step - loss: 0.7002 - accuracy: 0.7608 - val_loss: 0.5486 - val_accuracy: 0.8147\n",
      "Epoch 312/500\n",
      "96/96 [==============================] - 0s 4ms/step - loss: 0.6925 - accuracy: 0.7652 - val_loss: 0.5470 - val_accuracy: 0.8146\n",
      "Epoch 313/500\n",
      "96/96 [==============================] - 0s 4ms/step - loss: 0.6942 - accuracy: 0.7649 - val_loss: 0.5470 - val_accuracy: 0.8147\n",
      "Epoch 314/500\n",
      "96/96 [==============================] - 0s 5ms/step - loss: 0.6932 - accuracy: 0.7631 - val_loss: 0.5467 - val_accuracy: 0.8148\n",
      "Epoch 315/500\n",
      "96/96 [==============================] - 0s 4ms/step - loss: 0.6910 - accuracy: 0.7655 - val_loss: 0.5472 - val_accuracy: 0.8153\n",
      "Epoch 316/500\n",
      "96/96 [==============================] - 0s 5ms/step - loss: 0.6900 - accuracy: 0.7669 - val_loss: 0.5455 - val_accuracy: 0.8151\n",
      "Epoch 317/500\n",
      "96/96 [==============================] - 0s 4ms/step - loss: 0.6913 - accuracy: 0.7640 - val_loss: 0.5449 - val_accuracy: 0.8149\n",
      "Epoch 318/500\n",
      "96/96 [==============================] - 0s 4ms/step - loss: 0.6900 - accuracy: 0.7647 - val_loss: 0.5456 - val_accuracy: 0.8143\n",
      "Epoch 319/500\n",
      "96/96 [==============================] - 0s 4ms/step - loss: 0.6913 - accuracy: 0.7652 - val_loss: 0.5447 - val_accuracy: 0.8149\n",
      "Epoch 320/500\n",
      "96/96 [==============================] - 0s 4ms/step - loss: 0.6861 - accuracy: 0.7658 - val_loss: 0.5445 - val_accuracy: 0.8151\n",
      "Epoch 321/500\n",
      "96/96 [==============================] - 0s 4ms/step - loss: 0.6897 - accuracy: 0.7656 - val_loss: 0.5447 - val_accuracy: 0.8152\n",
      "Epoch 322/500\n",
      "96/96 [==============================] - 0s 5ms/step - loss: 0.6872 - accuracy: 0.7685 - val_loss: 0.5438 - val_accuracy: 0.8155\n",
      "Epoch 323/500\n",
      "96/96 [==============================] - 0s 5ms/step - loss: 0.6867 - accuracy: 0.7666 - val_loss: 0.5433 - val_accuracy: 0.8149\n",
      "Epoch 324/500\n",
      "96/96 [==============================] - 0s 4ms/step - loss: 0.6869 - accuracy: 0.7667 - val_loss: 0.5422 - val_accuracy: 0.8159\n",
      "Epoch 325/500\n",
      "96/96 [==============================] - 0s 4ms/step - loss: 0.6870 - accuracy: 0.7652 - val_loss: 0.5429 - val_accuracy: 0.8152\n",
      "Epoch 326/500\n",
      "96/96 [==============================] - 0s 4ms/step - loss: 0.6874 - accuracy: 0.7665 - val_loss: 0.5420 - val_accuracy: 0.8153\n",
      "Epoch 327/500\n",
      "96/96 [==============================] - 0s 4ms/step - loss: 0.6859 - accuracy: 0.7671 - val_loss: 0.5419 - val_accuracy: 0.8158\n",
      "Epoch 328/500\n",
      "96/96 [==============================] - 0s 4ms/step - loss: 0.6860 - accuracy: 0.7667 - val_loss: 0.5415 - val_accuracy: 0.8158\n",
      "Epoch 329/500\n",
      "96/96 [==============================] - 0s 4ms/step - loss: 0.6852 - accuracy: 0.7669 - val_loss: 0.5411 - val_accuracy: 0.8160\n",
      "Epoch 330/500\n",
      "96/96 [==============================] - 0s 4ms/step - loss: 0.6821 - accuracy: 0.7706 - val_loss: 0.5400 - val_accuracy: 0.8163\n",
      "Epoch 331/500\n",
      "96/96 [==============================] - 0s 4ms/step - loss: 0.6865 - accuracy: 0.7656 - val_loss: 0.5414 - val_accuracy: 0.8163\n",
      "Epoch 332/500\n",
      "96/96 [==============================] - 0s 4ms/step - loss: 0.6845 - accuracy: 0.7670 - val_loss: 0.5400 - val_accuracy: 0.8160\n",
      "Epoch 333/500\n",
      "96/96 [==============================] - 0s 5ms/step - loss: 0.6811 - accuracy: 0.7690 - val_loss: 0.5391 - val_accuracy: 0.8164\n",
      "Epoch 334/500\n",
      "96/96 [==============================] - 0s 5ms/step - loss: 0.6791 - accuracy: 0.7690 - val_loss: 0.5389 - val_accuracy: 0.8160\n",
      "Epoch 335/500\n",
      "96/96 [==============================] - 0s 4ms/step - loss: 0.6783 - accuracy: 0.7683 - val_loss: 0.5376 - val_accuracy: 0.8166\n",
      "Epoch 336/500\n",
      "96/96 [==============================] - 0s 5ms/step - loss: 0.6799 - accuracy: 0.7692 - val_loss: 0.5383 - val_accuracy: 0.8173\n",
      "Epoch 337/500\n",
      "96/96 [==============================] - 0s 4ms/step - loss: 0.6802 - accuracy: 0.7675 - val_loss: 0.5377 - val_accuracy: 0.8166\n",
      "Epoch 338/500\n",
      "96/96 [==============================] - 0s 4ms/step - loss: 0.6794 - accuracy: 0.7692 - val_loss: 0.5378 - val_accuracy: 0.8167\n",
      "Epoch 00338: early stopping\n"
     ]
    }
   ],
   "source": [
    "history = model.fit(X_train, Y_train_cat, validation_data = (X_val, Y_val_cat), epochs = 500, batch_size = 500, callbacks=[es])"
   ]
  },
  {
   "cell_type": "code",
   "execution_count": null,
   "metadata": {
    "colab": {
     "base_uri": "https://localhost:8080/",
     "height": 98
    },
    "id": "UNQ_SzRl0qz1",
    "outputId": "42408889-73ac-478a-88f3-71a006e4246b"
   },
   "outputs": [
    {
     "name": "stdout",
     "output_type": "stream",
     "text": [
      "313/313 [==============================] - 1s 2ms/step - loss: 0.5728 - accuracy: 0.7993\n"
     ]
    },
    {
     "data": {
      "text/html": [
       "\n",
       "  <div id=\"df-981d92cb-342f-4ab5-83e5-3e031ac36024\">\n",
       "    <div class=\"colab-df-container\">\n",
       "      <div>\n",
       "<style scoped>\n",
       "    .dataframe tbody tr th:only-of-type {\n",
       "        vertical-align: middle;\n",
       "    }\n",
       "\n",
       "    .dataframe tbody tr th {\n",
       "        vertical-align: top;\n",
       "    }\n",
       "\n",
       "    .dataframe thead th {\n",
       "        text-align: right;\n",
       "    }\n",
       "</style>\n",
       "<table border=\"1\" class=\"dataframe\">\n",
       "  <thead>\n",
       "    <tr style=\"text-align: right;\">\n",
       "      <th></th>\n",
       "      <th>SVM</th>\n",
       "      <th>KNN_10</th>\n",
       "      <th>Random_Forest</th>\n",
       "      <th>BaggingClassifier</th>\n",
       "      <th>StackingClassifier</th>\n",
       "      <th>NeuralNetwork</th>\n",
       "    </tr>\n",
       "  </thead>\n",
       "  <tbody>\n",
       "    <tr>\n",
       "      <th>SCORE</th>\n",
       "      <td>0.8851</td>\n",
       "      <td>0.8584</td>\n",
       "      <td>0.8212</td>\n",
       "      <td>0.8855</td>\n",
       "      <td>0.8846</td>\n",
       "      <td>0.7993</td>\n",
       "    </tr>\n",
       "  </tbody>\n",
       "</table>\n",
       "</div>\n",
       "      <button class=\"colab-df-convert\" onclick=\"convertToInteractive('df-981d92cb-342f-4ab5-83e5-3e031ac36024')\"\n",
       "              title=\"Convert this dataframe to an interactive table.\"\n",
       "              style=\"display:none;\">\n",
       "        \n",
       "  <svg xmlns=\"http://www.w3.org/2000/svg\" height=\"24px\"viewBox=\"0 0 24 24\"\n",
       "       width=\"24px\">\n",
       "    <path d=\"M0 0h24v24H0V0z\" fill=\"none\"/>\n",
       "    <path d=\"M18.56 5.44l.94 2.06.94-2.06 2.06-.94-2.06-.94-.94-2.06-.94 2.06-2.06.94zm-11 1L8.5 8.5l.94-2.06 2.06-.94-2.06-.94L8.5 2.5l-.94 2.06-2.06.94zm10 10l.94 2.06.94-2.06 2.06-.94-2.06-.94-.94-2.06-.94 2.06-2.06.94z\"/><path d=\"M17.41 7.96l-1.37-1.37c-.4-.4-.92-.59-1.43-.59-.52 0-1.04.2-1.43.59L10.3 9.45l-7.72 7.72c-.78.78-.78 2.05 0 2.83L4 21.41c.39.39.9.59 1.41.59.51 0 1.02-.2 1.41-.59l7.78-7.78 2.81-2.81c.8-.78.8-2.07 0-2.86zM5.41 20L4 18.59l7.72-7.72 1.47 1.35L5.41 20z\"/>\n",
       "  </svg>\n",
       "      </button>\n",
       "      \n",
       "  <style>\n",
       "    .colab-df-container {\n",
       "      display:flex;\n",
       "      flex-wrap:wrap;\n",
       "      gap: 12px;\n",
       "    }\n",
       "\n",
       "    .colab-df-convert {\n",
       "      background-color: #E8F0FE;\n",
       "      border: none;\n",
       "      border-radius: 50%;\n",
       "      cursor: pointer;\n",
       "      display: none;\n",
       "      fill: #1967D2;\n",
       "      height: 32px;\n",
       "      padding: 0 0 0 0;\n",
       "      width: 32px;\n",
       "    }\n",
       "\n",
       "    .colab-df-convert:hover {\n",
       "      background-color: #E2EBFA;\n",
       "      box-shadow: 0px 1px 2px rgba(60, 64, 67, 0.3), 0px 1px 3px 1px rgba(60, 64, 67, 0.15);\n",
       "      fill: #174EA6;\n",
       "    }\n",
       "\n",
       "    [theme=dark] .colab-df-convert {\n",
       "      background-color: #3B4455;\n",
       "      fill: #D2E3FC;\n",
       "    }\n",
       "\n",
       "    [theme=dark] .colab-df-convert:hover {\n",
       "      background-color: #434B5C;\n",
       "      box-shadow: 0px 1px 3px 1px rgba(0, 0, 0, 0.15);\n",
       "      filter: drop-shadow(0px 1px 2px rgba(0, 0, 0, 0.3));\n",
       "      fill: #FFFFFF;\n",
       "    }\n",
       "  </style>\n",
       "\n",
       "      <script>\n",
       "        const buttonEl =\n",
       "          document.querySelector('#df-981d92cb-342f-4ab5-83e5-3e031ac36024 button.colab-df-convert');\n",
       "        buttonEl.style.display =\n",
       "          google.colab.kernel.accessAllowed ? 'block' : 'none';\n",
       "\n",
       "        async function convertToInteractive(key) {\n",
       "          const element = document.querySelector('#df-981d92cb-342f-4ab5-83e5-3e031ac36024');\n",
       "          const dataTable =\n",
       "            await google.colab.kernel.invokeFunction('convertToInteractive',\n",
       "                                                     [key], {});\n",
       "          if (!dataTable) return;\n",
       "\n",
       "          const docLinkHtml = 'Like what you see? Visit the ' +\n",
       "            '<a target=\"_blank\" href=https://colab.research.google.com/notebooks/data_table.ipynb>data table notebook</a>'\n",
       "            + ' to learn more about interactive tables.';\n",
       "          element.innerHTML = '';\n",
       "          dataTable['output_type'] = 'display_data';\n",
       "          await google.colab.output.renderOutput(dataTable, element);\n",
       "          const docLink = document.createElement('div');\n",
       "          docLink.innerHTML = docLinkHtml;\n",
       "          element.appendChild(docLink);\n",
       "        }\n",
       "      </script>\n",
       "    </div>\n",
       "  </div>\n",
       "  "
      ],
      "text/plain": [
       "          SVM  KNN_10  ...  StackingClassifier  NeuralNetwork\n",
       "SCORE  0.8851  0.8584  ...              0.8846         0.7993\n",
       "\n",
       "[1 rows x 6 columns]"
      ]
     },
     "execution_count": 27,
     "metadata": {},
     "output_type": "execute_result"
    }
   ],
   "source": [
    "NeuralNetwork = model.evaluate(X_test, Y_test_cat, verbose = 1)\n",
    "models_scores[\"NeuralNetwork\"] = NeuralNetwork[1]\n",
    "models_scores"
   ]
  },
  {
   "cell_type": "code",
   "execution_count": null,
   "metadata": {
    "colab": {
     "base_uri": "https://localhost:8080/",
     "height": 573
    },
    "id": "_GX8tg_s2-VW",
    "outputId": "1d6bc66b-1697-4a5d-a8e7-fbac219c4087"
   },
   "outputs": [
    {
     "data": {
      "image/png": "[encoded data removed]",
      "text/plain": [
       "<Figure size 432x288 with 1 Axes>"
      ]
     },
     "metadata": {
      "needs_background": "light"
     },
     "output_type": "display_data"
    },
    {
     "data": {
      "image/png": "[encoded data removed]",
      "text/plain": [
       "<Figure size 432x288 with 1 Axes>"
      ]
     },
     "metadata": {
      "needs_background": "light"
     },
     "output_type": "display_data"
    }
   ],
   "source": [
    "# summarize history for accuracy\n",
    "plt.plot(history.history['accuracy'])\n",
    "plt.plot(history.history['val_accuracy'])\n",
    "plt.title('model accuracy')\n",
    "plt.ylabel('accuracy')\n",
    "plt.xlabel('epoch')\n",
    "plt.legend(['train', 'val'], loc='upper left')\n",
    "plt.show()\n",
    "\n",
    "# summarize history for loss\n",
    "plt.plot(history.history['loss'])\n",
    "plt.plot(history.history['val_loss'])\n",
    "plt.title('model loss')\n",
    "plt.ylabel('loss')\n",
    "plt.xlabel('epoch')\n",
    "plt.legend(['train', 'val'], loc='upper left')\n",
    "plt.show()"
   ]
  },
  {
   "cell_type": "markdown",
   "metadata": {
    "id": "mjINmFjE01Z5"
   },
   "source": [
    "### Best Model"
   ]
  },
  {
   "cell_type": "markdown",
   "metadata": {
    "id": "rU0VoNeJ2nw4"
   },
   "source": [
    "We choose the best model for this dataset looking at the accuracy score and the eventual presence of overfitting.\n",
    "The best model turned out to be the SVM classifier with an accuracy of 0.885.\n"
   ]
  },
  {
   "cell_type": "code",
   "execution_count": null,
   "metadata": {
    "colab": {
     "base_uri": "https://localhost:8080/",
     "height": 81
    },
    "id": "61tZkZpI9yhF",
    "outputId": "ac7e2183-2e3e-49ea-a709-d80856c3fc8f"
   },
   "outputs": [
    {
     "data": {
      "text/html": [
       "\n",
       "  <div id=\"df-b9dfc065-af4e-4e78-afea-74f8b7a7eb48\">\n",
       "    <div class=\"colab-df-container\">\n",
       "      <div>\n",
       "<style scoped>\n",
       "    .dataframe tbody tr th:only-of-type {\n",
       "        vertical-align: middle;\n",
       "    }\n",
       "\n",
       "    .dataframe tbody tr th {\n",
       "        vertical-align: top;\n",
       "    }\n",
       "\n",
       "    .dataframe thead th {\n",
       "        text-align: right;\n",
       "    }\n",
       "</style>\n",
       "<table border=\"1\" class=\"dataframe\">\n",
       "  <thead>\n",
       "    <tr style=\"text-align: right;\">\n",
       "      <th></th>\n",
       "      <th>0</th>\n",
       "      <th>1</th>\n",
       "      <th>2</th>\n",
       "      <th>3</th>\n",
       "      <th>4</th>\n",
       "      <th>5</th>\n",
       "      <th>6</th>\n",
       "      <th>7</th>\n",
       "      <th>8</th>\n",
       "      <th>9</th>\n",
       "    </tr>\n",
       "  </thead>\n",
       "  <tbody>\n",
       "    <tr>\n",
       "      <th>Name</th>\n",
       "      <td>T-shirt/top</td>\n",
       "      <td>Trousers</td>\n",
       "      <td>Pullover</td>\n",
       "      <td>Dress</td>\n",
       "      <td>Coat</td>\n",
       "      <td>Sandal</td>\n",
       "      <td>Shirt</td>\n",
       "      <td>Sneaker</td>\n",
       "      <td>Bag</td>\n",
       "      <td>Ankle boot</td>\n",
       "    </tr>\n",
       "  </tbody>\n",
       "</table>\n",
       "</div>\n",
       "      <button class=\"colab-df-convert\" onclick=\"convertToInteractive('df-b9dfc065-af4e-4e78-afea-74f8b7a7eb48')\"\n",
       "              title=\"Convert this dataframe to an interactive table.\"\n",
       "              style=\"display:none;\">\n",
       "        \n",
       "  <svg xmlns=\"http://www.w3.org/2000/svg\" height=\"24px\"viewBox=\"0 0 24 24\"\n",
       "       width=\"24px\">\n",
       "    <path d=\"M0 0h24v24H0V0z\" fill=\"none\"/>\n",
       "    <path d=\"M18.56 5.44l.94 2.06.94-2.06 2.06-.94-2.06-.94-.94-2.06-.94 2.06-2.06.94zm-11 1L8.5 8.5l.94-2.06 2.06-.94-2.06-.94L8.5 2.5l-.94 2.06-2.06.94zm10 10l.94 2.06.94-2.06 2.06-.94-2.06-.94-.94-2.06-.94 2.06-2.06.94z\"/><path d=\"M17.41 7.96l-1.37-1.37c-.4-.4-.92-.59-1.43-.59-.52 0-1.04.2-1.43.59L10.3 9.45l-7.72 7.72c-.78.78-.78 2.05 0 2.83L4 21.41c.39.39.9.59 1.41.59.51 0 1.02-.2 1.41-.59l7.78-7.78 2.81-2.81c.8-.78.8-2.07 0-2.86zM5.41 20L4 18.59l7.72-7.72 1.47 1.35L5.41 20z\"/>\n",
       "  </svg>\n",
       "      </button>\n",
       "      \n",
       "  <style>\n",
       "    .colab-df-container {\n",
       "      display:flex;\n",
       "      flex-wrap:wrap;\n",
       "      gap: 12px;\n",
       "    }\n",
       "\n",
       "    .colab-df-convert {\n",
       "      background-color: #E8F0FE;\n",
       "      border: none;\n",
       "      border-radius: 50%;\n",
       "      cursor: pointer;\n",
       "      display: none;\n",
       "      fill: #1967D2;\n",
       "      height: 32px;\n",
       "      padding: 0 0 0 0;\n",
       "      width: 32px;\n",
       "    }\n",
       "\n",
       "    .colab-df-convert:hover {\n",
       "      background-color: #E2EBFA;\n",
       "      box-shadow: 0px 1px 2px rgba(60, 64, 67, 0.3), 0px 1px 3px 1px rgba(60, 64, 67, 0.15);\n",
       "      fill: #174EA6;\n",
       "    }\n",
       "\n",
       "    [theme=dark] .colab-df-convert {\n",
       "      background-color: #3B4455;\n",
       "      fill: #D2E3FC;\n",
       "    }\n",
       "\n",
       "    [theme=dark] .colab-df-convert:hover {\n",
       "      background-color: #434B5C;\n",
       "      box-shadow: 0px 1px 3px 1px rgba(0, 0, 0, 0.15);\n",
       "      filter: drop-shadow(0px 1px 2px rgba(0, 0, 0, 0.3));\n",
       "      fill: #FFFFFF;\n",
       "    }\n",
       "  </style>\n",
       "\n",
       "      <script>\n",
       "        const buttonEl =\n",
       "          document.querySelector('#df-b9dfc065-af4e-4e78-afea-74f8b7a7eb48 button.colab-df-convert');\n",
       "        buttonEl.style.display =\n",
       "          google.colab.kernel.accessAllowed ? 'block' : 'none';\n",
       "\n",
       "        async function convertToInteractive(key) {\n",
       "          const element = document.querySelector('#df-b9dfc065-af4e-4e78-afea-74f8b7a7eb48');\n",
       "          const dataTable =\n",
       "            await google.colab.kernel.invokeFunction('convertToInteractive',\n",
       "                                                     [key], {});\n",
       "          if (!dataTable) return;\n",
       "\n",
       "          const docLinkHtml = 'Like what you see? Visit the ' +\n",
       "            '<a target=\"_blank\" href=https://colab.research.google.com/notebooks/data_table.ipynb>data table notebook</a>'\n",
       "            + ' to learn more about interactive tables.';\n",
       "          element.innerHTML = '';\n",
       "          dataTable['output_type'] = 'display_data';\n",
       "          await google.colab.output.renderOutput(dataTable, element);\n",
       "          const docLink = document.createElement('div');\n",
       "          docLink.innerHTML = docLinkHtml;\n",
       "          element.appendChild(docLink);\n",
       "        }\n",
       "      </script>\n",
       "    </div>\n",
       "  </div>\n",
       "  "
      ],
      "text/plain": [
       "                0         1         2      3  ...      6        7    8           9\n",
       "Name  T-shirt/top  Trousers  Pullover  Dress  ...  Shirt  Sneaker  Bag  Ankle boot\n",
       "\n",
       "[1 rows x 10 columns]"
      ]
     },
     "execution_count": 39,
     "metadata": {},
     "output_type": "execute_result"
    }
   ],
   "source": [
    "labels = {}\n",
    "labels = pd.DataFrame(labels, index = [\"Name\"])\n",
    "for i in range(0,10) :\n",
    "  labels[labels_num[i]] = labels_fashion[i]\n",
    "labels"
   ]
  },
  {
   "cell_type": "markdown",
   "metadata": {
    "id": "RWpWAcjjJu0V"
   },
   "source": [
    "We can observe the confusion matrix for the comparison of the real values of the labels with those predicted by the SVM model."
   ]
  },
  {
   "cell_type": "code",
   "execution_count": null,
   "metadata": {
    "colab": {
     "base_uri": "https://localhost:8080/",
     "height": 279
    },
    "id": "mrNEoBgE3er0",
    "outputId": "6bb9feaf-7c40-433c-e381-fdfa0ec53d9a"
   },
   "outputs": [
    {
     "data": {
      "image/png": "[encoded data removed]",
      "text/plain": [
       "<Figure size 432x288 with 2 Axes>"
      ]
     },
     "metadata": {
      "needs_background": "light"
     },
     "output_type": "display_data"
    }
   ],
   "source": [
    "from sklearn.metrics import confusion_matrix, ConfusionMatrixDisplay\n",
    "\n",
    "cm = confusion_matrix(Y_test, svc.predict(X_test), labels = labels_num)\n",
    "disp = ConfusionMatrixDisplay(confusion_matrix = cm, display_labels = labels_num)\n",
    "disp.plot()\n",
    "plt.show()"
   ]
  },
  {
   "cell_type": "markdown",
   "metadata": {
    "id": "2-NWMJarI-NX"
   },
   "source": [
    "After noticing from the confusion matrix that the product 6 (Shirt) has more prediction errors than others, let's see some examples of how they were predicted."
   ]
  },
  {
   "cell_type": "code",
   "execution_count": null,
   "metadata": {
    "colab": {
     "base_uri": "https://localhost:8080/",
     "height": 1000
    },
    "id": "IhOIq5TJBkYS",
    "outputId": "1116bcc5-3ab5-4eb6-e41d-5bbb62742fc0"
   },
   "outputs": [
    {
     "data": {
      "image/png": "[encoded data removed]",
      "text/plain": [
       "<Figure size 432x288 with 1 Axes>"
      ]
     },
     "metadata": {
      "needs_background": "light"
     },
     "output_type": "display_data"
    },
    {
     "data": {
      "image/png": "[encoded data removed]",
      "text/plain": [
       "<Figure size 432x288 with 1 Axes>"
      ]
     },
     "metadata": {
      "needs_background": "light"
     },
     "output_type": "display_data"
    },
    {
     "data": {
      "image/png": "[encoded data removed]",
      "text/plain": [
       "<Figure size 432x288 with 1 Axes>"
      ]
     },
     "metadata": {
      "needs_background": "light"
     },
     "output_type": "display_data"
    },
    {
     "data": {
      "image/png": "[encoded data removed]",
      "text/plain": [
       "<Figure size 432x288 with 1 Axes>"
      ]
     },
     "metadata": {
      "needs_background": "light"
     },
     "output_type": "display_data"
    },
    {
     "data": {
      "image/png": "[encoded data removed]",
      "text/plain": [
       "<Figure size 432x288 with 1 Axes>"
      ]
     },
     "metadata": {
      "needs_background": "light"
     },
     "output_type": "display_data"
    },
    {
     "data": {
      "image/png": "[encoded data removed]",
      "text/plain": [
       "<Figure size 432x288 with 1 Axes>"
      ]
     },
     "metadata": {
      "needs_background": "light"
     },
     "output_type": "display_data"
    },
    {
     "data": {
      "image/png": "[encoded data removed]",
      "text/plain": [
       "<Figure size 432x288 with 1 Axes>"
      ]
     },
     "metadata": {
      "needs_background": "light"
     },
     "output_type": "display_data"
    },
    {
     "data": {
      "image/png": "[encoded data removed]",
      "text/plain": [
       "<Figure size 432x288 with 1 Axes>"
      ]
     },
     "metadata": {
      "needs_background": "light"
     },
     "output_type": "display_data"
    }
   ],
   "source": [
    "from matplotlib import image\n",
    "n = 0\n",
    "while(n<=5):\n",
    "  for i in range(0,100):\n",
    "    if Y_test[i] == 6:\n",
    "      image_test = X_test_df.iloc[i]\n",
    "      image_test = np.array(image_test)\n",
    "      image_test = image_test.reshape((28,28))\n",
    "\n",
    "      label_pred = Y_pred_svc_test[i]\n",
    "      label_pred = labels_fashion[label_pred]\n",
    "      label_true = Y_test[i]\n",
    "      label_true = labels_fashion[label_true]\n",
    "      plt.figure()\n",
    "      plt.title(\"Predicted Label : %s\\nTrue Label: %s\" % (label_pred, label_true))\n",
    "      plt.imshow(image_test, cmap=\"gray\")\n",
    "      n += 1\n",
    "  "
   ]
  }
 ],
 "metadata": {
  "colab": {
   "collapsed_sections": [],
   "name": "ML_Colato_Gianfrate.ipynb",
   "provenance": []
  },
  "kernelspec": {
   "display_name": "Python 3",
   "language": "python",
   "name": "python3"
  },
  "language_info": {
   "codemirror_mode": {
    "name": "ipython",
    "version": 3
   },
   "file_extension": ".py",
   "mimetype": "text/x-python",
   "name": "python",
   "nbconvert_exporter": "python",
   "pygments_lexer": "ipython3",
   "version": "3.8.8"
  }
 },
 "nbformat": 4,
 "nbformat_minor": 1
}
